{
  "nbformat": 4,
  "nbformat_minor": 0,
  "metadata": {
    "colab": {
      "name": "Copy of Final Project - Restaurant Grades NYC.ipynb",
      "provenance": [],
      "collapsed_sections": [],
      "authorship_tag": "ABX9TyMXGVIrJDcgnIGTQgNqp59G",
      "include_colab_link": true
    },
    "kernelspec": {
      "name": "python3",
      "display_name": "Python 3"
    }
  },
  "cells": [
    {
      "cell_type": "markdown",
      "metadata": {
        "id": "view-in-github",
        "colab_type": "text"
      },
      "source": [
        "<a href=\"https://colab.research.google.com/github/eungam/NYC-restaurant-inspections/blob/master/Copy_of_Final_Project_Restaurant_Grades_NYC.ipynb\" target=\"_parent\"><img src=\"https://colab.research.google.com/assets/colab-badge.svg\" alt=\"Open In Colab\"/></a>"
      ]
    },
    {
      "cell_type": "code",
      "metadata": {
        "id": "e3JdohCg8Lqk",
        "colab_type": "code",
        "colab": {
          "base_uri": "https://localhost:8080/",
          "height": 71
        },
        "outputId": "322b8eb8-f56f-4d73-940e-03a4295a70bf"
      },
      "source": [
        "# import libraries needed\n",
        "import pandas as pd \n",
        "import seaborn as sb\n",
        "import numpy as np"
      ],
      "execution_count": null,
      "outputs": [
        {
          "output_type": "stream",
          "text": [
            "/usr/local/lib/python3.6/dist-packages/statsmodels/tools/_testing.py:19: FutureWarning: pandas.util.testing is deprecated. Use the functions in the public API at pandas.testing instead.\n",
            "  import pandas.util.testing as tm\n"
          ],
          "name": "stderr"
        }
      ]
    },
    {
      "cell_type": "code",
      "metadata": {
        "id": "j4yU9okc8iuQ",
        "colab_type": "code",
        "colab": {
          "base_uri": "https://localhost:8080/",
          "height": 122
        },
        "outputId": "946f03c9-51ab-48b3-c822-5e1e44f36b79"
      },
      "source": [
        "# mount gdrive\n",
        "from google.colab import drive\n",
        "drive.mount('/content/drive')"
      ],
      "execution_count": null,
      "outputs": [
        {
          "output_type": "stream",
          "text": [
            "Go to this URL in a browser: https://accounts.google.com/o/oauth2/auth?client_id=947318989803-6bn6qk8qdgf4n4g3pfee6491hc0brc4i.apps.googleusercontent.com&redirect_uri=urn%3aietf%3awg%3aoauth%3a2.0%3aoob&scope=email%20https%3a%2f%2fwww.googleapis.com%2fauth%2fdocs.test%20https%3a%2f%2fwww.googleapis.com%2fauth%2fdrive%20https%3a%2f%2fwww.googleapis.com%2fauth%2fdrive.photos.readonly%20https%3a%2f%2fwww.googleapis.com%2fauth%2fpeopleapi.readonly&response_type=code\n",
            "\n",
            "Enter your authorization code:\n",
            "··········\n",
            "Mounted at /content/drive\n"
          ],
          "name": "stdout"
        }
      ]
    },
    {
      "cell_type": "code",
      "metadata": {
        "id": "ohuG2Wpc-dRM",
        "colab_type": "code",
        "colab": {}
      },
      "source": [
        "dataset = pd.read_excel('/content/drive/My Drive/jedha fundies/Data/100k lines_Data NYC restaurants.xlsx')"
      ],
      "execution_count": null,
      "outputs": []
    },
    {
      "cell_type": "code",
      "metadata": {
        "id": "DXtqoBdLAP3Z",
        "colab_type": "code",
        "colab": {
          "base_uri": "https://localhost:8080/",
          "height": 513
        },
        "outputId": "23c44b7e-0c4b-4b2c-eb6b-a439dc85baa3"
      },
      "source": [
        "dataset.head()"
      ],
      "execution_count": null,
      "outputs": [
        {
          "output_type": "execute_result",
          "data": {
            "text/html": [
              "<div>\n",
              "<style scoped>\n",
              "    .dataframe tbody tr th:only-of-type {\n",
              "        vertical-align: middle;\n",
              "    }\n",
              "\n",
              "    .dataframe tbody tr th {\n",
              "        vertical-align: top;\n",
              "    }\n",
              "\n",
              "    .dataframe thead th {\n",
              "        text-align: right;\n",
              "    }\n",
              "</style>\n",
              "<table border=\"1\" class=\"dataframe\">\n",
              "  <thead>\n",
              "    <tr style=\"text-align: right;\">\n",
              "      <th></th>\n",
              "      <th>ÔªøCAMIS</th>\n",
              "      <th>DBA</th>\n",
              "      <th>BORO</th>\n",
              "      <th>BUILDING</th>\n",
              "      <th>STREET</th>\n",
              "      <th>ZIPCODE</th>\n",
              "      <th>PHONE</th>\n",
              "      <th>CUISINE DESCRIPTION</th>\n",
              "      <th>INSPECTION DATE</th>\n",
              "      <th>ACTION</th>\n",
              "      <th>VIOLATION CODE</th>\n",
              "      <th>VIOLATION DESCRIPTION</th>\n",
              "      <th>CRITICAL FLAG</th>\n",
              "      <th>SCORE</th>\n",
              "      <th>GRADE</th>\n",
              "      <th>GRADE DATE</th>\n",
              "      <th>RECORD DATE</th>\n",
              "      <th>INSPECTION TYPE</th>\n",
              "      <th>Latitude</th>\n",
              "      <th>Longitude</th>\n",
              "      <th>Community Board</th>\n",
              "      <th>Council District</th>\n",
              "      <th>Census Tract</th>\n",
              "      <th>BIN</th>\n",
              "      <th>BBL</th>\n",
              "      <th>NTA</th>\n",
              "    </tr>\n",
              "  </thead>\n",
              "  <tbody>\n",
              "    <tr>\n",
              "      <th>0</th>\n",
              "      <td>50070206</td>\n",
              "      <td>BLUE CAFE RESTAURANT &amp; BAR</td>\n",
              "      <td>Queens</td>\n",
              "      <td>8263</td>\n",
              "      <td>BROADWAY</td>\n",
              "      <td>11373.0</td>\n",
              "      <td>7183960717</td>\n",
              "      <td>Spanish</td>\n",
              "      <td>2018-11-01 00:00:00</td>\n",
              "      <td>Violations were cited in the following area(s).</td>\n",
              "      <td>02B</td>\n",
              "      <td>Hot food item not held at or above 140¬∫ F.</td>\n",
              "      <td>Y</td>\n",
              "      <td>14.0</td>\n",
              "      <td>NaN</td>\n",
              "      <td>NaN</td>\n",
              "      <td>07/20/2020</td>\n",
              "      <td>Pre-permit (Operational) / Initial Inspection</td>\n",
              "      <td>40.741920</td>\n",
              "      <td>-73.881125</td>\n",
              "      <td>404.0</td>\n",
              "      <td>25.0</td>\n",
              "      <td>27100.0</td>\n",
              "      <td>4037524.0</td>\n",
              "      <td>4.015180e+09</td>\n",
              "      <td>QN29</td>\n",
              "    </tr>\n",
              "    <tr>\n",
              "      <th>1</th>\n",
              "      <td>41713504</td>\n",
              "      <td>ISIS RESTAURANT</td>\n",
              "      <td>Bronx</td>\n",
              "      <td>739</td>\n",
              "      <td>ALLERTON AVENUE</td>\n",
              "      <td>10467.0</td>\n",
              "      <td>7183241054</td>\n",
              "      <td>Mexican</td>\n",
              "      <td>2019-09-10 00:00:00</td>\n",
              "      <td>Establishment Closed by DOHMH.  Violations wer...</td>\n",
              "      <td>08A</td>\n",
              "      <td>Facility not vermin proof. Harborage or condit...</td>\n",
              "      <td>N</td>\n",
              "      <td>40.0</td>\n",
              "      <td>NaN</td>\n",
              "      <td>NaN</td>\n",
              "      <td>07/20/2020</td>\n",
              "      <td>Cycle Inspection / Initial Inspection</td>\n",
              "      <td>40.865466</td>\n",
              "      <td>-73.865700</td>\n",
              "      <td>211.0</td>\n",
              "      <td>15.0</td>\n",
              "      <td>33800.0</td>\n",
              "      <td>2053637.0</td>\n",
              "      <td>2.045100e+09</td>\n",
              "      <td>BX07</td>\n",
              "    </tr>\n",
              "    <tr>\n",
              "      <th>2</th>\n",
              "      <td>41674628</td>\n",
              "      <td>MANHATTAN PROPER</td>\n",
              "      <td>Manhattan</td>\n",
              "      <td>6</td>\n",
              "      <td>MURRAY STREET</td>\n",
              "      <td>10007.0</td>\n",
              "      <td>6465594445</td>\n",
              "      <td>American</td>\n",
              "      <td>02/26/2019</td>\n",
              "      <td>Violations were cited in the following area(s).</td>\n",
              "      <td>04L</td>\n",
              "      <td>Evidence of mice or live mice present in facil...</td>\n",
              "      <td>Y</td>\n",
              "      <td>20.0</td>\n",
              "      <td>B</td>\n",
              "      <td>02/26/2019</td>\n",
              "      <td>07/20/2020</td>\n",
              "      <td>Cycle Inspection / Re-inspection</td>\n",
              "      <td>40.713222</td>\n",
              "      <td>-74.007622</td>\n",
              "      <td>101.0</td>\n",
              "      <td>1.0</td>\n",
              "      <td>2100.0</td>\n",
              "      <td>1001407.0</td>\n",
              "      <td>1.001240e+09</td>\n",
              "      <td>MN24</td>\n",
              "    </tr>\n",
              "    <tr>\n",
              "      <th>3</th>\n",
              "      <td>50012117</td>\n",
              "      <td>ROBERTA'S PIZZA &amp; BAKERY</td>\n",
              "      <td>Brooklyn</td>\n",
              "      <td>261</td>\n",
              "      <td>MOORE STREET</td>\n",
              "      <td>11206.0</td>\n",
              "      <td>7184171118</td>\n",
              "      <td>Pizza</td>\n",
              "      <td>2019-01-05 00:00:00</td>\n",
              "      <td>No violations were recorded at the time of thi...</td>\n",
              "      <td>NaN</td>\n",
              "      <td>NaN</td>\n",
              "      <td>NaN</td>\n",
              "      <td>0.0</td>\n",
              "      <td>NaN</td>\n",
              "      <td>NaN</td>\n",
              "      <td>07/20/2020</td>\n",
              "      <td>Inter-Agency Task Force / Initial Inspection</td>\n",
              "      <td>40.704818</td>\n",
              "      <td>-73.934015</td>\n",
              "      <td>301.0</td>\n",
              "      <td>34.0</td>\n",
              "      <td>48500.0</td>\n",
              "      <td>3071483.0</td>\n",
              "      <td>3.031010e+09</td>\n",
              "      <td>BK78</td>\n",
              "    </tr>\n",
              "    <tr>\n",
              "      <th>4</th>\n",
              "      <td>41022489</td>\n",
              "      <td>LA CANOA</td>\n",
              "      <td>Queens</td>\n",
              "      <td>651</td>\n",
              "      <td>ONDERDONK AVENUE</td>\n",
              "      <td>11385.0</td>\n",
              "      <td>7184566011</td>\n",
              "      <td>Latin (Cuban, Dominican, Puerto Rican, South &amp;...</td>\n",
              "      <td>02/24/2020</td>\n",
              "      <td>Violations were cited in the following area(s).</td>\n",
              "      <td>08A</td>\n",
              "      <td>Facility not vermin proof. Harborage or condit...</td>\n",
              "      <td>N</td>\n",
              "      <td>24.0</td>\n",
              "      <td>NaN</td>\n",
              "      <td>NaN</td>\n",
              "      <td>07/20/2020</td>\n",
              "      <td>Cycle Inspection / Initial Inspection</td>\n",
              "      <td>40.704525</td>\n",
              "      <td>-73.908126</td>\n",
              "      <td>405.0</td>\n",
              "      <td>34.0</td>\n",
              "      <td>54700.0</td>\n",
              "      <td>4082889.0</td>\n",
              "      <td>4.034670e+09</td>\n",
              "      <td>QN20</td>\n",
              "    </tr>\n",
              "  </tbody>\n",
              "</table>\n",
              "</div>"
            ],
            "text/plain": [
              "   ÔªøCAMIS                         DBA  ...           BBL   NTA\n",
              "0  50070206  BLUE CAFE RESTAURANT & BAR  ...  4.015180e+09  QN29\n",
              "1  41713504             ISIS RESTAURANT  ...  2.045100e+09  BX07\n",
              "2  41674628            MANHATTAN PROPER  ...  1.001240e+09  MN24\n",
              "3  50012117    ROBERTA'S PIZZA & BAKERY  ...  3.031010e+09  BK78\n",
              "4  41022489                    LA CANOA  ...  4.034670e+09  QN20\n",
              "\n",
              "[5 rows x 26 columns]"
            ]
          },
          "metadata": {
            "tags": []
          },
          "execution_count": 4
        }
      ]
    },
    {
      "cell_type": "code",
      "metadata": {
        "id": "NUBpl6T6BBN5",
        "colab_type": "code",
        "colab": {}
      },
      "source": [
        "# cleaning the dataframe\n",
        "# renaming columns\n",
        "# deleting useless columns\n",
        "\n",
        "dataset = dataset.rename(\n",
        "    columns={\n",
        "        \"ÔªøCAMIS\": \"Restaurant ID\",\n",
        "        \"DBA\": \"Restaurant Name\"\n",
        "            })\n",
        "\n",
        "dataset = dataset.drop([\"BUILDING\", \"PHONE\", \"Community Board\", \"Council District\", \"Census Tract\", \"BIN\", \"BBL\", \"NTA\"], axis=1)"
      ],
      "execution_count": null,
      "outputs": []
    },
    {
      "cell_type": "code",
      "metadata": {
        "id": "EmlNtMAGBmoz",
        "colab_type": "code",
        "colab": {
          "base_uri": "https://localhost:8080/",
          "height": 202
        },
        "outputId": "598c4292-3499-400d-f140-49faca4b8df8"
      },
      "source": [
        "dataset.head(1)"
      ],
      "execution_count": null,
      "outputs": [
        {
          "output_type": "execute_result",
          "data": {
            "text/html": [
              "<div>\n",
              "<style scoped>\n",
              "    .dataframe tbody tr th:only-of-type {\n",
              "        vertical-align: middle;\n",
              "    }\n",
              "\n",
              "    .dataframe tbody tr th {\n",
              "        vertical-align: top;\n",
              "    }\n",
              "\n",
              "    .dataframe thead th {\n",
              "        text-align: right;\n",
              "    }\n",
              "</style>\n",
              "<table border=\"1\" class=\"dataframe\">\n",
              "  <thead>\n",
              "    <tr style=\"text-align: right;\">\n",
              "      <th></th>\n",
              "      <th>Restaurant ID</th>\n",
              "      <th>Restaurant Name</th>\n",
              "      <th>BORO</th>\n",
              "      <th>STREET</th>\n",
              "      <th>ZIPCODE</th>\n",
              "      <th>CUISINE DESCRIPTION</th>\n",
              "      <th>INSPECTION DATE</th>\n",
              "      <th>ACTION</th>\n",
              "      <th>VIOLATION CODE</th>\n",
              "      <th>VIOLATION DESCRIPTION</th>\n",
              "      <th>CRITICAL FLAG</th>\n",
              "      <th>SCORE</th>\n",
              "      <th>GRADE</th>\n",
              "      <th>GRADE DATE</th>\n",
              "      <th>RECORD DATE</th>\n",
              "      <th>INSPECTION TYPE</th>\n",
              "      <th>Latitude</th>\n",
              "      <th>Longitude</th>\n",
              "    </tr>\n",
              "  </thead>\n",
              "  <tbody>\n",
              "    <tr>\n",
              "      <th>0</th>\n",
              "      <td>50070206</td>\n",
              "      <td>BLUE CAFE RESTAURANT &amp; BAR</td>\n",
              "      <td>Queens</td>\n",
              "      <td>BROADWAY</td>\n",
              "      <td>11373.0</td>\n",
              "      <td>Spanish</td>\n",
              "      <td>2018-11-01 00:00:00</td>\n",
              "      <td>Violations were cited in the following area(s).</td>\n",
              "      <td>02B</td>\n",
              "      <td>Hot food item not held at or above 140¬∫ F.</td>\n",
              "      <td>Y</td>\n",
              "      <td>14.0</td>\n",
              "      <td>NaN</td>\n",
              "      <td>NaN</td>\n",
              "      <td>07/20/2020</td>\n",
              "      <td>Pre-permit (Operational) / Initial Inspection</td>\n",
              "      <td>40.74192</td>\n",
              "      <td>-73.881125</td>\n",
              "    </tr>\n",
              "  </tbody>\n",
              "</table>\n",
              "</div>"
            ],
            "text/plain": [
              "   Restaurant ID             Restaurant Name  ...  Latitude  Longitude\n",
              "0       50070206  BLUE CAFE RESTAURANT & BAR  ...  40.74192 -73.881125\n",
              "\n",
              "[1 rows x 18 columns]"
            ]
          },
          "metadata": {
            "tags": []
          },
          "execution_count": 6
        }
      ]
    },
    {
      "cell_type": "code",
      "metadata": {
        "id": "_iIayxwbJezN",
        "colab_type": "code",
        "colab": {
          "base_uri": "https://localhost:8080/",
          "height": 340
        },
        "outputId": "708dd456-cd24-4d94-d7d1-27474e91e6e9"
      },
      "source": [
        "dataset.isnull().sum()\n",
        "# we will remove rows with no score (grade is based on score, so we need it for this project)"
      ],
      "execution_count": null,
      "outputs": [
        {
          "output_type": "execute_result",
          "data": {
            "text/plain": [
              "Restaurant ID                0\n",
              "Restaurant Name            136\n",
              "BORO                         0\n",
              "STREET                      30\n",
              "ZIPCODE                   2527\n",
              "CUISINE DESCRIPTION          0\n",
              "INSPECTION DATE              0\n",
              "ACTION                     682\n",
              "VIOLATION CODE            2309\n",
              "VIOLATION DESCRIPTION     3585\n",
              "CRITICAL FLAG             3585\n",
              "SCORE                     6502\n",
              "GRADE                    74275\n",
              "GRADE DATE               75242\n",
              "RECORD DATE                  0\n",
              "INSPECTION TYPE            682\n",
              "Latitude                   603\n",
              "Longitude                  603\n",
              "dtype: int64"
            ]
          },
          "metadata": {
            "tags": []
          },
          "execution_count": 7
        }
      ]
    },
    {
      "cell_type": "code",
      "metadata": {
        "id": "NUzepgyRIDfe",
        "colab_type": "code",
        "colab": {
          "base_uri": "https://localhost:8080/",
          "height": 340
        },
        "outputId": "f9193662-c572-4ce5-8e46-c7c6796b8b4a"
      },
      "source": [
        "# removing rows with no score\n",
        "dataset = dataset.dropna(subset=['SCORE'])\n",
        "\n",
        "# checking\n",
        "dataset.isnull().sum()"
      ],
      "execution_count": null,
      "outputs": [
        {
          "output_type": "execute_result",
          "data": {
            "text/plain": [
              "Restaurant ID                0\n",
              "Restaurant Name              0\n",
              "BORO                         0\n",
              "STREET                      29\n",
              "ZIPCODE                   2405\n",
              "CUISINE DESCRIPTION          0\n",
              "INSPECTION DATE              0\n",
              "ACTION                       0\n",
              "VIOLATION CODE             618\n",
              "VIOLATION DESCRIPTION     1024\n",
              "CRITICAL FLAG             1024\n",
              "SCORE                        0\n",
              "GRADE                    67776\n",
              "GRADE DATE               68740\n",
              "RECORD DATE                  0\n",
              "INSPECTION TYPE              0\n",
              "Latitude                   590\n",
              "Longitude                  590\n",
              "dtype: int64"
            ]
          },
          "metadata": {
            "tags": []
          },
          "execution_count": 8
        }
      ]
    },
    {
      "cell_type": "code",
      "metadata": {
        "id": "YslXbTEfMvk8",
        "colab_type": "code",
        "colab": {
          "base_uri": "https://localhost:8080/",
          "height": 204
        },
        "outputId": "eaf7daad-3d8d-4ed9-b543-db8dbdcddc1f"
      },
      "source": [
        "# turn qualitative values into quantitative\n",
        "# starting with boro\n",
        "newdummies = pd.get_dummies(dataset['BORO'], drop_first=True)\n",
        "newdummies.head()"
      ],
      "execution_count": null,
      "outputs": [
        {
          "output_type": "execute_result",
          "data": {
            "text/html": [
              "<div>\n",
              "<style scoped>\n",
              "    .dataframe tbody tr th:only-of-type {\n",
              "        vertical-align: middle;\n",
              "    }\n",
              "\n",
              "    .dataframe tbody tr th {\n",
              "        vertical-align: top;\n",
              "    }\n",
              "\n",
              "    .dataframe thead th {\n",
              "        text-align: right;\n",
              "    }\n",
              "</style>\n",
              "<table border=\"1\" class=\"dataframe\">\n",
              "  <thead>\n",
              "    <tr style=\"text-align: right;\">\n",
              "      <th></th>\n",
              "      <th>Bronx</th>\n",
              "      <th>Brooklyn</th>\n",
              "      <th>Manhattan</th>\n",
              "      <th>Queens</th>\n",
              "      <th>Staten Island</th>\n",
              "    </tr>\n",
              "  </thead>\n",
              "  <tbody>\n",
              "    <tr>\n",
              "      <th>0</th>\n",
              "      <td>0</td>\n",
              "      <td>0</td>\n",
              "      <td>0</td>\n",
              "      <td>1</td>\n",
              "      <td>0</td>\n",
              "    </tr>\n",
              "    <tr>\n",
              "      <th>1</th>\n",
              "      <td>1</td>\n",
              "      <td>0</td>\n",
              "      <td>0</td>\n",
              "      <td>0</td>\n",
              "      <td>0</td>\n",
              "    </tr>\n",
              "    <tr>\n",
              "      <th>2</th>\n",
              "      <td>0</td>\n",
              "      <td>0</td>\n",
              "      <td>1</td>\n",
              "      <td>0</td>\n",
              "      <td>0</td>\n",
              "    </tr>\n",
              "    <tr>\n",
              "      <th>3</th>\n",
              "      <td>0</td>\n",
              "      <td>1</td>\n",
              "      <td>0</td>\n",
              "      <td>0</td>\n",
              "      <td>0</td>\n",
              "    </tr>\n",
              "    <tr>\n",
              "      <th>4</th>\n",
              "      <td>0</td>\n",
              "      <td>0</td>\n",
              "      <td>0</td>\n",
              "      <td>1</td>\n",
              "      <td>0</td>\n",
              "    </tr>\n",
              "  </tbody>\n",
              "</table>\n",
              "</div>"
            ],
            "text/plain": [
              "   Bronx  Brooklyn  Manhattan  Queens  Staten Island\n",
              "0      0         0          0       1              0\n",
              "1      1         0          0       0              0\n",
              "2      0         0          1       0              0\n",
              "3      0         1          0       0              0\n",
              "4      0         0          0       1              0"
            ]
          },
          "metadata": {
            "tags": []
          },
          "execution_count": 9
        }
      ]
    },
    {
      "cell_type": "code",
      "metadata": {
        "id": "maJSYbbmP77Z",
        "colab_type": "code",
        "colab": {
          "base_uri": "https://localhost:8080/",
          "height": 513
        },
        "outputId": "808befac-eca4-48ac-a380-d904c99872b7"
      },
      "source": [
        "dataset = dataset.merge(newdummies, left_index=True, right_index=True)\n",
        "dataset.head()"
      ],
      "execution_count": null,
      "outputs": [
        {
          "output_type": "execute_result",
          "data": {
            "text/html": [
              "<div>\n",
              "<style scoped>\n",
              "    .dataframe tbody tr th:only-of-type {\n",
              "        vertical-align: middle;\n",
              "    }\n",
              "\n",
              "    .dataframe tbody tr th {\n",
              "        vertical-align: top;\n",
              "    }\n",
              "\n",
              "    .dataframe thead th {\n",
              "        text-align: right;\n",
              "    }\n",
              "</style>\n",
              "<table border=\"1\" class=\"dataframe\">\n",
              "  <thead>\n",
              "    <tr style=\"text-align: right;\">\n",
              "      <th></th>\n",
              "      <th>Restaurant ID</th>\n",
              "      <th>Restaurant Name</th>\n",
              "      <th>BORO</th>\n",
              "      <th>STREET</th>\n",
              "      <th>ZIPCODE</th>\n",
              "      <th>CUISINE DESCRIPTION</th>\n",
              "      <th>INSPECTION DATE</th>\n",
              "      <th>ACTION</th>\n",
              "      <th>VIOLATION CODE</th>\n",
              "      <th>VIOLATION DESCRIPTION</th>\n",
              "      <th>CRITICAL FLAG</th>\n",
              "      <th>SCORE</th>\n",
              "      <th>GRADE</th>\n",
              "      <th>GRADE DATE</th>\n",
              "      <th>RECORD DATE</th>\n",
              "      <th>INSPECTION TYPE</th>\n",
              "      <th>Latitude</th>\n",
              "      <th>Longitude</th>\n",
              "      <th>Bronx</th>\n",
              "      <th>Brooklyn</th>\n",
              "      <th>Manhattan</th>\n",
              "      <th>Queens</th>\n",
              "      <th>Staten Island</th>\n",
              "    </tr>\n",
              "  </thead>\n",
              "  <tbody>\n",
              "    <tr>\n",
              "      <th>0</th>\n",
              "      <td>50070206</td>\n",
              "      <td>BLUE CAFE RESTAURANT &amp; BAR</td>\n",
              "      <td>Queens</td>\n",
              "      <td>BROADWAY</td>\n",
              "      <td>11373.0</td>\n",
              "      <td>Spanish</td>\n",
              "      <td>2018-11-01 00:00:00</td>\n",
              "      <td>Violations were cited in the following area(s).</td>\n",
              "      <td>02B</td>\n",
              "      <td>Hot food item not held at or above 140¬∫ F.</td>\n",
              "      <td>Y</td>\n",
              "      <td>14.0</td>\n",
              "      <td>NaN</td>\n",
              "      <td>NaN</td>\n",
              "      <td>07/20/2020</td>\n",
              "      <td>Pre-permit (Operational) / Initial Inspection</td>\n",
              "      <td>40.741920</td>\n",
              "      <td>-73.881125</td>\n",
              "      <td>0</td>\n",
              "      <td>0</td>\n",
              "      <td>0</td>\n",
              "      <td>1</td>\n",
              "      <td>0</td>\n",
              "    </tr>\n",
              "    <tr>\n",
              "      <th>1</th>\n",
              "      <td>41713504</td>\n",
              "      <td>ISIS RESTAURANT</td>\n",
              "      <td>Bronx</td>\n",
              "      <td>ALLERTON AVENUE</td>\n",
              "      <td>10467.0</td>\n",
              "      <td>Mexican</td>\n",
              "      <td>2019-09-10 00:00:00</td>\n",
              "      <td>Establishment Closed by DOHMH.  Violations wer...</td>\n",
              "      <td>08A</td>\n",
              "      <td>Facility not vermin proof. Harborage or condit...</td>\n",
              "      <td>N</td>\n",
              "      <td>40.0</td>\n",
              "      <td>NaN</td>\n",
              "      <td>NaN</td>\n",
              "      <td>07/20/2020</td>\n",
              "      <td>Cycle Inspection / Initial Inspection</td>\n",
              "      <td>40.865466</td>\n",
              "      <td>-73.865700</td>\n",
              "      <td>1</td>\n",
              "      <td>0</td>\n",
              "      <td>0</td>\n",
              "      <td>0</td>\n",
              "      <td>0</td>\n",
              "    </tr>\n",
              "    <tr>\n",
              "      <th>2</th>\n",
              "      <td>41674628</td>\n",
              "      <td>MANHATTAN PROPER</td>\n",
              "      <td>Manhattan</td>\n",
              "      <td>MURRAY STREET</td>\n",
              "      <td>10007.0</td>\n",
              "      <td>American</td>\n",
              "      <td>02/26/2019</td>\n",
              "      <td>Violations were cited in the following area(s).</td>\n",
              "      <td>04L</td>\n",
              "      <td>Evidence of mice or live mice present in facil...</td>\n",
              "      <td>Y</td>\n",
              "      <td>20.0</td>\n",
              "      <td>B</td>\n",
              "      <td>02/26/2019</td>\n",
              "      <td>07/20/2020</td>\n",
              "      <td>Cycle Inspection / Re-inspection</td>\n",
              "      <td>40.713222</td>\n",
              "      <td>-74.007622</td>\n",
              "      <td>0</td>\n",
              "      <td>0</td>\n",
              "      <td>1</td>\n",
              "      <td>0</td>\n",
              "      <td>0</td>\n",
              "    </tr>\n",
              "    <tr>\n",
              "      <th>3</th>\n",
              "      <td>50012117</td>\n",
              "      <td>ROBERTA'S PIZZA &amp; BAKERY</td>\n",
              "      <td>Brooklyn</td>\n",
              "      <td>MOORE STREET</td>\n",
              "      <td>11206.0</td>\n",
              "      <td>Pizza</td>\n",
              "      <td>2019-01-05 00:00:00</td>\n",
              "      <td>No violations were recorded at the time of thi...</td>\n",
              "      <td>NaN</td>\n",
              "      <td>NaN</td>\n",
              "      <td>NaN</td>\n",
              "      <td>0.0</td>\n",
              "      <td>NaN</td>\n",
              "      <td>NaN</td>\n",
              "      <td>07/20/2020</td>\n",
              "      <td>Inter-Agency Task Force / Initial Inspection</td>\n",
              "      <td>40.704818</td>\n",
              "      <td>-73.934015</td>\n",
              "      <td>0</td>\n",
              "      <td>1</td>\n",
              "      <td>0</td>\n",
              "      <td>0</td>\n",
              "      <td>0</td>\n",
              "    </tr>\n",
              "    <tr>\n",
              "      <th>4</th>\n",
              "      <td>41022489</td>\n",
              "      <td>LA CANOA</td>\n",
              "      <td>Queens</td>\n",
              "      <td>ONDERDONK AVENUE</td>\n",
              "      <td>11385.0</td>\n",
              "      <td>Latin (Cuban, Dominican, Puerto Rican, South &amp;...</td>\n",
              "      <td>02/24/2020</td>\n",
              "      <td>Violations were cited in the following area(s).</td>\n",
              "      <td>08A</td>\n",
              "      <td>Facility not vermin proof. Harborage or condit...</td>\n",
              "      <td>N</td>\n",
              "      <td>24.0</td>\n",
              "      <td>NaN</td>\n",
              "      <td>NaN</td>\n",
              "      <td>07/20/2020</td>\n",
              "      <td>Cycle Inspection / Initial Inspection</td>\n",
              "      <td>40.704525</td>\n",
              "      <td>-73.908126</td>\n",
              "      <td>0</td>\n",
              "      <td>0</td>\n",
              "      <td>0</td>\n",
              "      <td>1</td>\n",
              "      <td>0</td>\n",
              "    </tr>\n",
              "  </tbody>\n",
              "</table>\n",
              "</div>"
            ],
            "text/plain": [
              "   Restaurant ID             Restaurant Name  ... Queens Staten Island\n",
              "0       50070206  BLUE CAFE RESTAURANT & BAR  ...      1             0\n",
              "1       41713504             ISIS RESTAURANT  ...      0             0\n",
              "2       41674628            MANHATTAN PROPER  ...      0             0\n",
              "3       50012117    ROBERTA'S PIZZA & BAKERY  ...      0             0\n",
              "4       41022489                    LA CANOA  ...      1             0\n",
              "\n",
              "[5 rows x 23 columns]"
            ]
          },
          "metadata": {
            "tags": []
          },
          "execution_count": 10
        }
      ]
    },
    {
      "cell_type": "markdown",
      "metadata": {
        "id": "QDysrl3JkfAe",
        "colab_type": "text"
      },
      "source": [
        "# Linear regression"
      ]
    },
    {
      "cell_type": "code",
      "metadata": {
        "id": "BnSVrIn4kg9P",
        "colab_type": "code",
        "colab": {}
      },
      "source": [
        "y = dataset[\"SCORE\"].values.astype(int)\n",
        "X = newdummies\n",
        "\n",
        "from sklearn.model_selection import train_test_split\n",
        "\n",
        "X_train, X_test, y_train, y_test = train_test_split(X, y, test_size=0.2, random_state=0)"
      ],
      "execution_count": null,
      "outputs": []
    },
    {
      "cell_type": "code",
      "metadata": {
        "id": "zFp8IT6Xlj5s",
        "colab_type": "code",
        "colab": {}
      },
      "source": [
        "from sklearn.preprocessing import StandardScaler\n",
        "\n",
        "sc_X = StandardScaler()\n",
        "X_train = sc_X.fit_transform(X_train)\n",
        "X_test = sc_X.transform(X_test)"
      ],
      "execution_count": null,
      "outputs": []
    },
    {
      "cell_type": "code",
      "metadata": {
        "id": "-hjfry08mZ5D",
        "colab_type": "code",
        "colab": {
          "base_uri": "https://localhost:8080/",
          "height": 51
        },
        "outputId": "9590c8ac-ec5a-4a30-9838-2b884eae9b6c"
      },
      "source": [
        "from sklearn.linear_model import LinearRegression\n",
        "reg = LinearRegression()\n",
        "\n",
        "reg.fit(X_train, y_train)\n",
        "print(\"Score Train:\",reg.score (X_train, y_train))\n",
        "print(\"Score Test:\",reg.score (X_test, y_test))"
      ],
      "execution_count": null,
      "outputs": [
        {
          "output_type": "stream",
          "text": [
            "Score Train: 0.0003827998347708527\n",
            "Score Test: -0.00019534127470111073\n"
          ],
          "name": "stdout"
        }
      ]
    },
    {
      "cell_type": "code",
      "metadata": {
        "id": "88nNoEdGtdO8",
        "colab_type": "code",
        "colab": {
          "base_uri": "https://localhost:8080/",
          "height": 34
        },
        "outputId": "f418aed4-a9d9-40cc-da0c-62d68ecd8dfa"
      },
      "source": [
        "axis_y = reg.coef_\n",
        "axis_y"
      ],
      "execution_count": null,
      "outputs": [
        {
          "output_type": "execute_result",
          "data": {
            "text/plain": [
              "array([-0.40021304, -0.22949824, -0.40949751, -0.3578863 , -0.32456827])"
            ]
          },
          "metadata": {
            "tags": []
          },
          "execution_count": 77
        }
      ]
    },
    {
      "cell_type": "code",
      "metadata": {
        "id": "TcufLpx7MoMg",
        "colab_type": "code",
        "colab": {
          "base_uri": "https://localhost:8080/",
          "height": 204
        },
        "outputId": "8cf4521c-0f50-4289-c222-7a06c8ac0bd3"
      },
      "source": [
        "# to which borough each coefficient corresponds\n",
        "coefficients = pd.concat([pd.DataFrame(newdummies.columns),pd.DataFrame(np.transpose(reg.coef_))], axis = 1)\n",
        "coefficients"
      ],
      "execution_count": null,
      "outputs": [
        {
          "output_type": "execute_result",
          "data": {
            "text/html": [
              "<div>\n",
              "<style scoped>\n",
              "    .dataframe tbody tr th:only-of-type {\n",
              "        vertical-align: middle;\n",
              "    }\n",
              "\n",
              "    .dataframe tbody tr th {\n",
              "        vertical-align: top;\n",
              "    }\n",
              "\n",
              "    .dataframe thead th {\n",
              "        text-align: right;\n",
              "    }\n",
              "</style>\n",
              "<table border=\"1\" class=\"dataframe\">\n",
              "  <thead>\n",
              "    <tr style=\"text-align: right;\">\n",
              "      <th></th>\n",
              "      <th>0</th>\n",
              "      <th>0</th>\n",
              "    </tr>\n",
              "  </thead>\n",
              "  <tbody>\n",
              "    <tr>\n",
              "      <th>0</th>\n",
              "      <td>Bronx</td>\n",
              "      <td>-0.400213</td>\n",
              "    </tr>\n",
              "    <tr>\n",
              "      <th>1</th>\n",
              "      <td>Brooklyn</td>\n",
              "      <td>-0.229498</td>\n",
              "    </tr>\n",
              "    <tr>\n",
              "      <th>2</th>\n",
              "      <td>Manhattan</td>\n",
              "      <td>-0.409498</td>\n",
              "    </tr>\n",
              "    <tr>\n",
              "      <th>3</th>\n",
              "      <td>Queens</td>\n",
              "      <td>-0.357886</td>\n",
              "    </tr>\n",
              "    <tr>\n",
              "      <th>4</th>\n",
              "      <td>Staten Island</td>\n",
              "      <td>-0.324568</td>\n",
              "    </tr>\n",
              "  </tbody>\n",
              "</table>\n",
              "</div>"
            ],
            "text/plain": [
              "               0         0\n",
              "0          Bronx -0.400213\n",
              "1       Brooklyn -0.229498\n",
              "2      Manhattan -0.409498\n",
              "3         Queens -0.357886\n",
              "4  Staten Island -0.324568"
            ]
          },
          "metadata": {
            "tags": []
          },
          "execution_count": 92
        }
      ]
    },
    {
      "cell_type": "code",
      "metadata": {
        "id": "JbzHGK9FNHlT",
        "colab_type": "code",
        "colab": {
          "base_uri": "https://localhost:8080/",
          "height": 286
        },
        "outputId": "697b0d50-8967-4400-e320-39ce3dcb635e"
      },
      "source": [
        "bar_x_positions = [\"Bronx\", \"Brooklyn\", \"Manhattan\", \"Queens\", \"Staten Island\"]\n",
        "plt.bar(bar_x_positions, axis_y, color=\"purple\")"
      ],
      "execution_count": null,
      "outputs": [
        {
          "output_type": "execute_result",
          "data": {
            "text/plain": [
              "<BarContainer object of 5 artists>"
            ]
          },
          "metadata": {
            "tags": []
          },
          "execution_count": 101
        },
        {
          "output_type": "display_data",
          "data": {
            "image/png": "[encoded data removed]",
            "text/plain": [
              "<Figure size 432x288 with 1 Axes>"
            ]
          },
          "metadata": {
            "tags": [],
            "needs_background": "light"
          }
        }
      ]
    },
    {
      "cell_type": "markdown",
      "metadata": {
        "id": "f574adzOpZ9l",
        "colab_type": "text"
      },
      "source": [
        "# Decision tree(wrong)"
      ]
    },
    {
      "cell_type": "code",
      "metadata": {
        "id": "omYKjO3pRaEt",
        "colab_type": "code",
        "colab": {}
      },
      "source": [
        "# creating our X and y values\n",
        "# we need to convert SCORE into integer\n",
        "y = dataset[\"SCORE\"].values.astype(int)\n",
        "X = newdummies"
      ],
      "execution_count": null,
      "outputs": []
    },
    {
      "cell_type": "code",
      "metadata": {
        "id": "PddykcujRx_7",
        "colab_type": "code",
        "colab": {}
      },
      "source": [
        "# divide into train and test sets\n",
        "from sklearn.model_selection import train_test_split\n",
        "X_train, X_test, y_train, y_test = train_test_split(X, y, test_size=0.2, random_state=0)"
      ],
      "execution_count": null,
      "outputs": []
    },
    {
      "cell_type": "code",
      "metadata": {
        "id": "6i3kjhyjSp2x",
        "colab_type": "code",
        "colab": {}
      },
      "source": [
        "# decision tree classifier\n",
        "from sklearn.tree import DecisionTreeClassifier\n",
        "tree = DecisionTreeClassifier()\n",
        "\n",
        "# training\n",
        "tree = tree.fit(X_train, y_train)\n",
        "\n",
        "# testing predictions\n",
        "y_pred = tree.predict(X_test)"
      ],
      "execution_count": null,
      "outputs": []
    },
    {
      "cell_type": "code",
      "metadata": {
        "id": "kZ_JtSphS8iC",
        "colab_type": "code",
        "colab": {
          "base_uri": "https://localhost:8080/",
          "height": 34
        },
        "outputId": "30b470a6-767e-41dc-e4f0-d1b103bf1e2d"
      },
      "source": [
        "print(\"Accuracy train:\", tree.score(X_train, y_train))\n"
      ],
      "execution_count": null,
      "outputs": [
        {
          "output_type": "stream",
          "text": [
            "Accuracy train: 0.1094836578581363\n"
          ],
          "name": "stdout"
        }
      ]
    },
    {
      "cell_type": "code",
      "metadata": {
        "id": "hKo0reedUO3N",
        "colab_type": "code",
        "colab": {
          "base_uri": "https://localhost:8080/",
          "height": 34
        },
        "outputId": "69aaa279-6a0c-48c9-f2e5-ef7ff9dd4d79"
      },
      "source": [
        "print(\"Accuracy test:\", tree.score(X_test, y_test))"
      ],
      "execution_count": null,
      "outputs": [
        {
          "output_type": "stream",
          "text": [
            "Accuracy test: 0.10556328233657858\n"
          ],
          "name": "stdout"
        }
      ]
    },
    {
      "cell_type": "code",
      "metadata": {
        "id": "Xu7TuWD-_Xhx",
        "colab_type": "code",
        "colab": {
          "base_uri": "https://localhost:8080/",
          "height": 34
        },
        "outputId": "4365d5fc-5de4-4d64-bbbf-f72031dd7467"
      },
      "source": [
        "y_test"
      ],
      "execution_count": null,
      "outputs": [
        {
          "output_type": "execute_result",
          "data": {
            "text/plain": [
              "array([12,  4, 13, ..., 50, 30, 11])"
            ]
          },
          "metadata": {
            "tags": []
          },
          "execution_count": 36
        }
      ]
    },
    {
      "cell_type": "code",
      "metadata": {
        "id": "GXmzmh6Fjj1Z",
        "colab_type": "code",
        "colab": {}
      },
      "source": [
        ""
      ],
      "execution_count": null,
      "outputs": []
    }
  ]
}