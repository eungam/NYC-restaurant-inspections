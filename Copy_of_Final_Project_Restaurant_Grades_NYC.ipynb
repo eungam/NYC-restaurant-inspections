{
  "nbformat": 4,
  "nbformat_minor": 0,
  "metadata": {
    "colab": {
      "name": "Copy of Final Project - Restaurant Grades NYC.ipynb",
      "provenance": [],
      "collapsed_sections": []
    },
    "kernelspec": {
      "name": "python3",
      "display_name": "Python 3"
    }
  },
  "cells": [
    {
      "cell_type": "markdown",
      "metadata": {
        "id": "1Gm62iTvmI1G",
        "colab_type": "text"
      },
      "source": [
        "# Importing libraries"
      ]
    },
    {
      "cell_type": "code",
      "metadata": {
        "id": "e3JdohCg8Lqk",
        "colab_type": "code",
        "colab": {
          "base_uri": "https://localhost:8080/",
          "height": 51
        },
        "outputId": "bb69a557-89b7-4915-e0ce-5f589e91d79f"
      },
      "source": [
        "# import libraries needed\n",
        "import pandas as pd \n",
        "import seaborn as sb\n",
        "import numpy as np\n",
        "import matplotlib.pyplot as plt\n",
        "plt.style.use('seaborn')"
      ],
      "execution_count": null,
      "outputs": [
        {
          "output_type": "stream",
          "text": [
            "/usr/local/lib/python3.6/dist-packages/statsmodels/tools/_testing.py:19: FutureWarning: pandas.util.testing is deprecated. Use the functions in the public API at pandas.testing instead.\n",
            "  import pandas.util.testing as tm\n"
          ],
          "name": "stderr"
        }
      ]
    },
    {
      "cell_type": "markdown",
      "metadata": {
        "id": "yOJxn_b_mNpQ",
        "colab_type": "text"
      },
      "source": [
        "# Data import and pre-processing"
      ]
    },
    {
      "cell_type": "code",
      "metadata": {
        "id": "j4yU9okc8iuQ",
        "colab_type": "code",
        "colab": {
          "base_uri": "https://localhost:8080/",
          "height": 34
        },
        "outputId": "65783e67-b495-49c4-d3b1-28d249b82566"
      },
      "source": [
        "# mount gdrive\n",
        "from google.colab import drive\n",
        "drive.mount('/content/drive')"
      ],
      "execution_count": null,
      "outputs": [
        {
          "output_type": "stream",
          "text": [
            "Drive already mounted at /content/drive; to attempt to forcibly remount, call drive.mount(\"/content/drive\", force_remount=True).\n"
          ],
          "name": "stdout"
        }
      ]
    },
    {
      "cell_type": "code",
      "metadata": {
        "id": "ohuG2Wpc-dRM",
        "colab_type": "code",
        "colab": {}
      },
      "source": [
        "dataset = pd.read_excel('/content/drive/My Drive/jedha fundies/Data/100k lines_Data NYC restaurants.xlsx')"
      ],
      "execution_count": null,
      "outputs": []
    },
    {
      "cell_type": "code",
      "metadata": {
        "id": "DXtqoBdLAP3Z",
        "colab_type": "code",
        "colab": {
          "base_uri": "https://localhost:8080/",
          "height": 513
        },
        "outputId": "73c44c1c-2a09-4031-8399-31f0d4c3ea8b"
      },
      "source": [
        "dataset.head()"
      ],
      "execution_count": null,
      "outputs": [
        {
          "output_type": "execute_result",
          "data": {
            "text/html": [
              "<div>\n",
              "<style scoped>\n",
              "    .dataframe tbody tr th:only-of-type {\n",
              "        vertical-align: middle;\n",
              "    }\n",
              "\n",
              "    .dataframe tbody tr th {\n",
              "        vertical-align: top;\n",
              "    }\n",
              "\n",
              "    .dataframe thead th {\n",
              "        text-align: right;\n",
              "    }\n",
              "</style>\n",
              "<table border=\"1\" class=\"dataframe\">\n",
              "  <thead>\n",
              "    <tr style=\"text-align: right;\">\n",
              "      <th></th>\n",
              "      <th>ÔªøCAMIS</th>\n",
              "      <th>DBA</th>\n",
              "      <th>BORO</th>\n",
              "      <th>BUILDING</th>\n",
              "      <th>STREET</th>\n",
              "      <th>ZIPCODE</th>\n",
              "      <th>PHONE</th>\n",
              "      <th>CUISINE DESCRIPTION</th>\n",
              "      <th>INSPECTION DATE</th>\n",
              "      <th>ACTION</th>\n",
              "      <th>VIOLATION CODE</th>\n",
              "      <th>VIOLATION DESCRIPTION</th>\n",
              "      <th>CRITICAL FLAG</th>\n",
              "      <th>SCORE</th>\n",
              "      <th>GRADE</th>\n",
              "      <th>GRADE DATE</th>\n",
              "      <th>RECORD DATE</th>\n",
              "      <th>INSPECTION TYPE</th>\n",
              "      <th>Latitude</th>\n",
              "      <th>Longitude</th>\n",
              "      <th>Community Board</th>\n",
              "      <th>Council District</th>\n",
              "      <th>Census Tract</th>\n",
              "      <th>BIN</th>\n",
              "      <th>BBL</th>\n",
              "      <th>NTA</th>\n",
              "    </tr>\n",
              "  </thead>\n",
              "  <tbody>\n",
              "    <tr>\n",
              "      <th>0</th>\n",
              "      <td>50070206</td>\n",
              "      <td>BLUE CAFE RESTAURANT &amp; BAR</td>\n",
              "      <td>Queens</td>\n",
              "      <td>8263</td>\n",
              "      <td>BROADWAY</td>\n",
              "      <td>11373.0</td>\n",
              "      <td>7183960717</td>\n",
              "      <td>Spanish</td>\n",
              "      <td>2018-11-01 00:00:00</td>\n",
              "      <td>Violations were cited in the following area(s).</td>\n",
              "      <td>02B</td>\n",
              "      <td>Hot food item not held at or above 140¬∫ F.</td>\n",
              "      <td>Y</td>\n",
              "      <td>14.0</td>\n",
              "      <td>NaN</td>\n",
              "      <td>NaN</td>\n",
              "      <td>07/20/2020</td>\n",
              "      <td>Pre-permit (Operational) / Initial Inspection</td>\n",
              "      <td>40.741920</td>\n",
              "      <td>-73.881125</td>\n",
              "      <td>404.0</td>\n",
              "      <td>25.0</td>\n",
              "      <td>27100.0</td>\n",
              "      <td>4037524.0</td>\n",
              "      <td>4.015180e+09</td>\n",
              "      <td>QN29</td>\n",
              "    </tr>\n",
              "    <tr>\n",
              "      <th>1</th>\n",
              "      <td>41713504</td>\n",
              "      <td>ISIS RESTAURANT</td>\n",
              "      <td>Bronx</td>\n",
              "      <td>739</td>\n",
              "      <td>ALLERTON AVENUE</td>\n",
              "      <td>10467.0</td>\n",
              "      <td>7183241054</td>\n",
              "      <td>Mexican</td>\n",
              "      <td>2019-09-10 00:00:00</td>\n",
              "      <td>Establishment Closed by DOHMH.  Violations wer...</td>\n",
              "      <td>08A</td>\n",
              "      <td>Facility not vermin proof. Harborage or condit...</td>\n",
              "      <td>N</td>\n",
              "      <td>40.0</td>\n",
              "      <td>NaN</td>\n",
              "      <td>NaN</td>\n",
              "      <td>07/20/2020</td>\n",
              "      <td>Cycle Inspection / Initial Inspection</td>\n",
              "      <td>40.865466</td>\n",
              "      <td>-73.865700</td>\n",
              "      <td>211.0</td>\n",
              "      <td>15.0</td>\n",
              "      <td>33800.0</td>\n",
              "      <td>2053637.0</td>\n",
              "      <td>2.045100e+09</td>\n",
              "      <td>BX07</td>\n",
              "    </tr>\n",
              "    <tr>\n",
              "      <th>2</th>\n",
              "      <td>41674628</td>\n",
              "      <td>MANHATTAN PROPER</td>\n",
              "      <td>Manhattan</td>\n",
              "      <td>6</td>\n",
              "      <td>MURRAY STREET</td>\n",
              "      <td>10007.0</td>\n",
              "      <td>6465594445</td>\n",
              "      <td>American</td>\n",
              "      <td>02/26/2019</td>\n",
              "      <td>Violations were cited in the following area(s).</td>\n",
              "      <td>04L</td>\n",
              "      <td>Evidence of mice or live mice present in facil...</td>\n",
              "      <td>Y</td>\n",
              "      <td>20.0</td>\n",
              "      <td>B</td>\n",
              "      <td>02/26/2019</td>\n",
              "      <td>07/20/2020</td>\n",
              "      <td>Cycle Inspection / Re-inspection</td>\n",
              "      <td>40.713222</td>\n",
              "      <td>-74.007622</td>\n",
              "      <td>101.0</td>\n",
              "      <td>1.0</td>\n",
              "      <td>2100.0</td>\n",
              "      <td>1001407.0</td>\n",
              "      <td>1.001240e+09</td>\n",
              "      <td>MN24</td>\n",
              "    </tr>\n",
              "    <tr>\n",
              "      <th>3</th>\n",
              "      <td>50012117</td>\n",
              "      <td>ROBERTA'S PIZZA &amp; BAKERY</td>\n",
              "      <td>Brooklyn</td>\n",
              "      <td>261</td>\n",
              "      <td>MOORE STREET</td>\n",
              "      <td>11206.0</td>\n",
              "      <td>7184171118</td>\n",
              "      <td>Pizza</td>\n",
              "      <td>2019-01-05 00:00:00</td>\n",
              "      <td>No violations were recorded at the time of thi...</td>\n",
              "      <td>NaN</td>\n",
              "      <td>NaN</td>\n",
              "      <td>NaN</td>\n",
              "      <td>0.0</td>\n",
              "      <td>NaN</td>\n",
              "      <td>NaN</td>\n",
              "      <td>07/20/2020</td>\n",
              "      <td>Inter-Agency Task Force / Initial Inspection</td>\n",
              "      <td>40.704818</td>\n",
              "      <td>-73.934015</td>\n",
              "      <td>301.0</td>\n",
              "      <td>34.0</td>\n",
              "      <td>48500.0</td>\n",
              "      <td>3071483.0</td>\n",
              "      <td>3.031010e+09</td>\n",
              "      <td>BK78</td>\n",
              "    </tr>\n",
              "    <tr>\n",
              "      <th>4</th>\n",
              "      <td>41022489</td>\n",
              "      <td>LA CANOA</td>\n",
              "      <td>Queens</td>\n",
              "      <td>651</td>\n",
              "      <td>ONDERDONK AVENUE</td>\n",
              "      <td>11385.0</td>\n",
              "      <td>7184566011</td>\n",
              "      <td>Latin (Cuban, Dominican, Puerto Rican, South &amp;...</td>\n",
              "      <td>02/24/2020</td>\n",
              "      <td>Violations were cited in the following area(s).</td>\n",
              "      <td>08A</td>\n",
              "      <td>Facility not vermin proof. Harborage or condit...</td>\n",
              "      <td>N</td>\n",
              "      <td>24.0</td>\n",
              "      <td>NaN</td>\n",
              "      <td>NaN</td>\n",
              "      <td>07/20/2020</td>\n",
              "      <td>Cycle Inspection / Initial Inspection</td>\n",
              "      <td>40.704525</td>\n",
              "      <td>-73.908126</td>\n",
              "      <td>405.0</td>\n",
              "      <td>34.0</td>\n",
              "      <td>54700.0</td>\n",
              "      <td>4082889.0</td>\n",
              "      <td>4.034670e+09</td>\n",
              "      <td>QN20</td>\n",
              "    </tr>\n",
              "  </tbody>\n",
              "</table>\n",
              "</div>"
            ],
            "text/plain": [
              "   ÔªøCAMIS                         DBA  ...           BBL   NTA\n",
              "0  50070206  BLUE CAFE RESTAURANT & BAR  ...  4.015180e+09  QN29\n",
              "1  41713504             ISIS RESTAURANT  ...  2.045100e+09  BX07\n",
              "2  41674628            MANHATTAN PROPER  ...  1.001240e+09  MN24\n",
              "3  50012117    ROBERTA'S PIZZA & BAKERY  ...  3.031010e+09  BK78\n",
              "4  41022489                    LA CANOA  ...  4.034670e+09  QN20\n",
              "\n",
              "[5 rows x 26 columns]"
            ]
          },
          "metadata": {
            "tags": []
          },
          "execution_count": 4
        }
      ]
    },
    {
      "cell_type": "code",
      "metadata": {
        "id": "NUBpl6T6BBN5",
        "colab_type": "code",
        "colab": {}
      },
      "source": [
        "# cleaning the dataframe\n",
        "# renaming columns\n",
        "# deleting useless columns\n",
        "\n",
        "# removing rows where ACTION = Establishment re-opened by DOHMH as they do not have a valid grade as per data documentation (grade of PREVIOUS inspection)\n",
        "dataset = dataset.drop(dataset[(dataset['ACTION'] == 'Establishment re-opened by DOHMH')].index)\n",
        "\n",
        "dataset = dataset.rename(\n",
        "    columns={\n",
        "        \"ÔªøCAMIS\": \"Restaurant ID\",\n",
        "        \"DBA\": \"Restaurant Name\",\n",
        "        \"CUISINE DESCRIPTION\": \"Cuisine\"\n",
        "            })\n",
        "\n",
        "dataset = dataset.drop([\"BUILDING\", \"PHONE\", \"Community Board\", \"Council District\", \"Census Tract\", \"BIN\", \"BBL\", \"NTA\",\"Restaurant Name\",\"Restaurant ID\",\"STREET\",\"ACTION\",\"VIOLATION DESCRIPTION\",\"INSPECTION TYPE\",\"GRADE DATE\",\"RECORD DATE\",\"Latitude\",\"Longitude\", \"ZIPCODE\",\"INSPECTION DATE\",\"CRITICAL FLAG\",\"RECORD DATE\"], axis=1)"
      ],
      "execution_count": null,
      "outputs": []
    },
    {
      "cell_type": "code",
      "metadata": {
        "id": "EmlNtMAGBmoz",
        "colab_type": "code",
        "colab": {
          "base_uri": "https://localhost:8080/",
          "height": 514
        },
        "outputId": "3559b9c2-dfe2-4b44-d635-ed2ca0a2168d"
      },
      "source": [
        "dataset.head(15)"
      ],
      "execution_count": null,
      "outputs": [
        {
          "output_type": "execute_result",
          "data": {
            "text/html": [
              "<div>\n",
              "<style scoped>\n",
              "    .dataframe tbody tr th:only-of-type {\n",
              "        vertical-align: middle;\n",
              "    }\n",
              "\n",
              "    .dataframe tbody tr th {\n",
              "        vertical-align: top;\n",
              "    }\n",
              "\n",
              "    .dataframe thead th {\n",
              "        text-align: right;\n",
              "    }\n",
              "</style>\n",
              "<table border=\"1\" class=\"dataframe\">\n",
              "  <thead>\n",
              "    <tr style=\"text-align: right;\">\n",
              "      <th></th>\n",
              "      <th>BORO</th>\n",
              "      <th>Cuisine</th>\n",
              "      <th>VIOLATION CODE</th>\n",
              "      <th>SCORE</th>\n",
              "      <th>GRADE</th>\n",
              "    </tr>\n",
              "  </thead>\n",
              "  <tbody>\n",
              "    <tr>\n",
              "      <th>0</th>\n",
              "      <td>Queens</td>\n",
              "      <td>Spanish</td>\n",
              "      <td>02B</td>\n",
              "      <td>14.0</td>\n",
              "      <td>NaN</td>\n",
              "    </tr>\n",
              "    <tr>\n",
              "      <th>1</th>\n",
              "      <td>Bronx</td>\n",
              "      <td>Mexican</td>\n",
              "      <td>08A</td>\n",
              "      <td>40.0</td>\n",
              "      <td>NaN</td>\n",
              "    </tr>\n",
              "    <tr>\n",
              "      <th>2</th>\n",
              "      <td>Manhattan</td>\n",
              "      <td>American</td>\n",
              "      <td>04L</td>\n",
              "      <td>20.0</td>\n",
              "      <td>B</td>\n",
              "    </tr>\n",
              "    <tr>\n",
              "      <th>3</th>\n",
              "      <td>Brooklyn</td>\n",
              "      <td>Pizza</td>\n",
              "      <td>NaN</td>\n",
              "      <td>0.0</td>\n",
              "      <td>NaN</td>\n",
              "    </tr>\n",
              "    <tr>\n",
              "      <th>4</th>\n",
              "      <td>Queens</td>\n",
              "      <td>Latin (Cuban, Dominican, Puerto Rican, South &amp;...</td>\n",
              "      <td>08A</td>\n",
              "      <td>24.0</td>\n",
              "      <td>NaN</td>\n",
              "    </tr>\n",
              "    <tr>\n",
              "      <th>5</th>\n",
              "      <td>Manhattan</td>\n",
              "      <td>Japanese</td>\n",
              "      <td>08A</td>\n",
              "      <td>11.0</td>\n",
              "      <td>A</td>\n",
              "    </tr>\n",
              "    <tr>\n",
              "      <th>6</th>\n",
              "      <td>Staten Island</td>\n",
              "      <td>Vietnamese/Cambodian/Malaysia</td>\n",
              "      <td>10F</td>\n",
              "      <td>8.0</td>\n",
              "      <td>A</td>\n",
              "    </tr>\n",
              "    <tr>\n",
              "      <th>7</th>\n",
              "      <td>Bronx</td>\n",
              "      <td>Spanish</td>\n",
              "      <td>10B</td>\n",
              "      <td>10.0</td>\n",
              "      <td>A</td>\n",
              "    </tr>\n",
              "    <tr>\n",
              "      <th>8</th>\n",
              "      <td>Queens</td>\n",
              "      <td>Korean</td>\n",
              "      <td>06C</td>\n",
              "      <td>32.0</td>\n",
              "      <td>NaN</td>\n",
              "    </tr>\n",
              "    <tr>\n",
              "      <th>9</th>\n",
              "      <td>Manhattan</td>\n",
              "      <td>Italian</td>\n",
              "      <td>04L</td>\n",
              "      <td>27.0</td>\n",
              "      <td>NaN</td>\n",
              "    </tr>\n",
              "    <tr>\n",
              "      <th>10</th>\n",
              "      <td>Manhattan</td>\n",
              "      <td>Seafood</td>\n",
              "      <td>10B</td>\n",
              "      <td>13.0</td>\n",
              "      <td>A</td>\n",
              "    </tr>\n",
              "    <tr>\n",
              "      <th>11</th>\n",
              "      <td>Queens</td>\n",
              "      <td>Spanish</td>\n",
              "      <td>10F</td>\n",
              "      <td>13.0</td>\n",
              "      <td>A</td>\n",
              "    </tr>\n",
              "    <tr>\n",
              "      <th>12</th>\n",
              "      <td>Brooklyn</td>\n",
              "      <td>Donuts</td>\n",
              "      <td>08A</td>\n",
              "      <td>9.0</td>\n",
              "      <td>A</td>\n",
              "    </tr>\n",
              "    <tr>\n",
              "      <th>13</th>\n",
              "      <td>Manhattan</td>\n",
              "      <td>Asian</td>\n",
              "      <td>10F</td>\n",
              "      <td>22.0</td>\n",
              "      <td>NaN</td>\n",
              "    </tr>\n",
              "    <tr>\n",
              "      <th>14</th>\n",
              "      <td>Manhattan</td>\n",
              "      <td>American</td>\n",
              "      <td>10F</td>\n",
              "      <td>18.0</td>\n",
              "      <td>B</td>\n",
              "    </tr>\n",
              "  </tbody>\n",
              "</table>\n",
              "</div>"
            ],
            "text/plain": [
              "             BORO  ... GRADE\n",
              "0          Queens  ...   NaN\n",
              "1           Bronx  ...   NaN\n",
              "2       Manhattan  ...     B\n",
              "3        Brooklyn  ...   NaN\n",
              "4          Queens  ...   NaN\n",
              "5       Manhattan  ...     A\n",
              "6   Staten Island  ...     A\n",
              "7           Bronx  ...     A\n",
              "8          Queens  ...   NaN\n",
              "9       Manhattan  ...   NaN\n",
              "10      Manhattan  ...     A\n",
              "11         Queens  ...     A\n",
              "12       Brooklyn  ...     A\n",
              "13      Manhattan  ...   NaN\n",
              "14      Manhattan  ...     B\n",
              "\n",
              "[15 rows x 5 columns]"
            ]
          },
          "metadata": {
            "tags": []
          },
          "execution_count": 6
        }
      ]
    },
    {
      "cell_type": "code",
      "metadata": {
        "id": "_iIayxwbJezN",
        "colab_type": "code",
        "colab": {
          "base_uri": "https://localhost:8080/",
          "height": 119
        },
        "outputId": "0f937ed0-1fd6-4edc-dce9-10871f7ec117"
      },
      "source": [
        "dataset.isnull().sum()"
      ],
      "execution_count": null,
      "outputs": [
        {
          "output_type": "execute_result",
          "data": {
            "text/plain": [
              "BORO                  0\n",
              "Cuisine               0\n",
              "VIOLATION CODE     2173\n",
              "SCORE              6482\n",
              "GRADE             74175\n",
              "dtype: int64"
            ]
          },
          "metadata": {
            "tags": []
          },
          "execution_count": 7
        }
      ]
    },
    {
      "cell_type": "code",
      "metadata": {
        "id": "NUzepgyRIDfe",
        "colab_type": "code",
        "colab": {
          "base_uri": "https://localhost:8080/",
          "height": 119
        },
        "outputId": "de2ca63c-5895-4c86-d749-3ff1e68524f7"
      },
      "source": [
        "# removing rows with no score or grade\n",
        "dataset = dataset.dropna(subset=['SCORE','GRADE'])\n",
        "\n",
        "# checking\n",
        "dataset.isnull().sum()"
      ],
      "execution_count": null,
      "outputs": [
        {
          "output_type": "execute_result",
          "data": {
            "text/plain": [
              "BORO                0\n",
              "Cuisine             0\n",
              "VIOLATION CODE    262\n",
              "SCORE               0\n",
              "GRADE               0\n",
              "dtype: int64"
            ]
          },
          "metadata": {
            "tags": []
          },
          "execution_count": 8
        }
      ]
    },
    {
      "cell_type": "markdown",
      "metadata": {
        "id": "VT_IX8Kpq9Kn",
        "colab_type": "text"
      },
      "source": [
        "## Dummy-fying borough values"
      ]
    },
    {
      "cell_type": "code",
      "metadata": {
        "id": "YslXbTEfMvk8",
        "colab_type": "code",
        "colab": {
          "base_uri": "https://localhost:8080/",
          "height": 204
        },
        "outputId": "a1ac29d3-d9c1-49ec-9c33-11d3429a125c"
      },
      "source": [
        "# turn qualitative values into quantitative\n",
        "# starting with boro\n",
        "dummies_boro = pd.get_dummies(dataset['BORO'], drop_first=True)\n",
        "dummies_boro.head()"
      ],
      "execution_count": null,
      "outputs": [
        {
          "output_type": "execute_result",
          "data": {
            "text/html": [
              "<div>\n",
              "<style scoped>\n",
              "    .dataframe tbody tr th:only-of-type {\n",
              "        vertical-align: middle;\n",
              "    }\n",
              "\n",
              "    .dataframe tbody tr th {\n",
              "        vertical-align: top;\n",
              "    }\n",
              "\n",
              "    .dataframe thead th {\n",
              "        text-align: right;\n",
              "    }\n",
              "</style>\n",
              "<table border=\"1\" class=\"dataframe\">\n",
              "  <thead>\n",
              "    <tr style=\"text-align: right;\">\n",
              "      <th></th>\n",
              "      <th>Bronx</th>\n",
              "      <th>Brooklyn</th>\n",
              "      <th>Manhattan</th>\n",
              "      <th>Queens</th>\n",
              "      <th>Staten Island</th>\n",
              "    </tr>\n",
              "  </thead>\n",
              "  <tbody>\n",
              "    <tr>\n",
              "      <th>2</th>\n",
              "      <td>0</td>\n",
              "      <td>0</td>\n",
              "      <td>1</td>\n",
              "      <td>0</td>\n",
              "      <td>0</td>\n",
              "    </tr>\n",
              "    <tr>\n",
              "      <th>5</th>\n",
              "      <td>0</td>\n",
              "      <td>0</td>\n",
              "      <td>1</td>\n",
              "      <td>0</td>\n",
              "      <td>0</td>\n",
              "    </tr>\n",
              "    <tr>\n",
              "      <th>6</th>\n",
              "      <td>0</td>\n",
              "      <td>0</td>\n",
              "      <td>0</td>\n",
              "      <td>0</td>\n",
              "      <td>1</td>\n",
              "    </tr>\n",
              "    <tr>\n",
              "      <th>7</th>\n",
              "      <td>1</td>\n",
              "      <td>0</td>\n",
              "      <td>0</td>\n",
              "      <td>0</td>\n",
              "      <td>0</td>\n",
              "    </tr>\n",
              "    <tr>\n",
              "      <th>10</th>\n",
              "      <td>0</td>\n",
              "      <td>0</td>\n",
              "      <td>1</td>\n",
              "      <td>0</td>\n",
              "      <td>0</td>\n",
              "    </tr>\n",
              "  </tbody>\n",
              "</table>\n",
              "</div>"
            ],
            "text/plain": [
              "    Bronx  Brooklyn  Manhattan  Queens  Staten Island\n",
              "2       0         0          1       0              0\n",
              "5       0         0          1       0              0\n",
              "6       0         0          0       0              1\n",
              "7       1         0          0       0              0\n",
              "10      0         0          1       0              0"
            ]
          },
          "metadata": {
            "tags": []
          },
          "execution_count": 9
        }
      ]
    },
    {
      "cell_type": "code",
      "metadata": {
        "id": "maJSYbbmP77Z",
        "colab_type": "code",
        "colab": {
          "base_uri": "https://localhost:8080/",
          "height": 204
        },
        "outputId": "a1538a30-45a7-4066-9a20-c2d7f283809b"
      },
      "source": [
        "dataset = dataset.merge(dummies_boro, left_index=True, right_index=True)\n",
        "dataset.head()"
      ],
      "execution_count": null,
      "outputs": [
        {
          "output_type": "execute_result",
          "data": {
            "text/html": [
              "<div>\n",
              "<style scoped>\n",
              "    .dataframe tbody tr th:only-of-type {\n",
              "        vertical-align: middle;\n",
              "    }\n",
              "\n",
              "    .dataframe tbody tr th {\n",
              "        vertical-align: top;\n",
              "    }\n",
              "\n",
              "    .dataframe thead th {\n",
              "        text-align: right;\n",
              "    }\n",
              "</style>\n",
              "<table border=\"1\" class=\"dataframe\">\n",
              "  <thead>\n",
              "    <tr style=\"text-align: right;\">\n",
              "      <th></th>\n",
              "      <th>BORO</th>\n",
              "      <th>Cuisine</th>\n",
              "      <th>VIOLATION CODE</th>\n",
              "      <th>SCORE</th>\n",
              "      <th>GRADE</th>\n",
              "      <th>Bronx</th>\n",
              "      <th>Brooklyn</th>\n",
              "      <th>Manhattan</th>\n",
              "      <th>Queens</th>\n",
              "      <th>Staten Island</th>\n",
              "    </tr>\n",
              "  </thead>\n",
              "  <tbody>\n",
              "    <tr>\n",
              "      <th>2</th>\n",
              "      <td>Manhattan</td>\n",
              "      <td>American</td>\n",
              "      <td>04L</td>\n",
              "      <td>20.0</td>\n",
              "      <td>B</td>\n",
              "      <td>0</td>\n",
              "      <td>0</td>\n",
              "      <td>1</td>\n",
              "      <td>0</td>\n",
              "      <td>0</td>\n",
              "    </tr>\n",
              "    <tr>\n",
              "      <th>5</th>\n",
              "      <td>Manhattan</td>\n",
              "      <td>Japanese</td>\n",
              "      <td>08A</td>\n",
              "      <td>11.0</td>\n",
              "      <td>A</td>\n",
              "      <td>0</td>\n",
              "      <td>0</td>\n",
              "      <td>1</td>\n",
              "      <td>0</td>\n",
              "      <td>0</td>\n",
              "    </tr>\n",
              "    <tr>\n",
              "      <th>6</th>\n",
              "      <td>Staten Island</td>\n",
              "      <td>Vietnamese/Cambodian/Malaysia</td>\n",
              "      <td>10F</td>\n",
              "      <td>8.0</td>\n",
              "      <td>A</td>\n",
              "      <td>0</td>\n",
              "      <td>0</td>\n",
              "      <td>0</td>\n",
              "      <td>0</td>\n",
              "      <td>1</td>\n",
              "    </tr>\n",
              "    <tr>\n",
              "      <th>7</th>\n",
              "      <td>Bronx</td>\n",
              "      <td>Spanish</td>\n",
              "      <td>10B</td>\n",
              "      <td>10.0</td>\n",
              "      <td>A</td>\n",
              "      <td>1</td>\n",
              "      <td>0</td>\n",
              "      <td>0</td>\n",
              "      <td>0</td>\n",
              "      <td>0</td>\n",
              "    </tr>\n",
              "    <tr>\n",
              "      <th>10</th>\n",
              "      <td>Manhattan</td>\n",
              "      <td>Seafood</td>\n",
              "      <td>10B</td>\n",
              "      <td>13.0</td>\n",
              "      <td>A</td>\n",
              "      <td>0</td>\n",
              "      <td>0</td>\n",
              "      <td>1</td>\n",
              "      <td>0</td>\n",
              "      <td>0</td>\n",
              "    </tr>\n",
              "  </tbody>\n",
              "</table>\n",
              "</div>"
            ],
            "text/plain": [
              "             BORO                        Cuisine  ... Queens  Staten Island\n",
              "2       Manhattan                       American  ...      0              0\n",
              "5       Manhattan                       Japanese  ...      0              0\n",
              "6   Staten Island  Vietnamese/Cambodian/Malaysia  ...      0              1\n",
              "7           Bronx                        Spanish  ...      0              0\n",
              "10      Manhattan                        Seafood  ...      0              0\n",
              "\n",
              "[5 rows x 10 columns]"
            ]
          },
          "metadata": {
            "tags": []
          },
          "execution_count": 10
        }
      ]
    },
    {
      "cell_type": "markdown",
      "metadata": {
        "id": "4BCCCmDhmWSC",
        "colab_type": "text"
      },
      "source": [
        "## Merging cuisine types for easier data analysis\n",
        "We have 84 different cuisine types. It will be easier to merge them into categories to understand the data and see which features have influence in our models.\n",
        "We will group cuisine types by continent."
      ]
    },
    {
      "cell_type": "code",
      "metadata": {
        "id": "HQWRiYZRmZfq",
        "colab_type": "code",
        "colab": {
          "base_uri": "https://localhost:8080/"
        },
        "outputId": "e19e83dc-5a5b-42ea-eda9-06ad811ec683"
      },
      "source": [
        "dataset.Cuisine.nunique()"
      ],
      "execution_count": null,
      "outputs": [
        {
          "output_type": "execute_result",
          "data": {
            "text/plain": [
              "84"
            ]
          },
          "metadata": {
            "tags": []
          },
          "execution_count": 11
        }
      ]
    },
    {
      "cell_type": "code",
      "metadata": {
        "id": "Frz0HL8xm8Jo",
        "colab_type": "code",
        "colab": {
          "base_uri": "https://localhost:8080/"
        },
        "outputId": "3c9dc9e8-e13e-4193-9c6a-e1b3d98d9ef2"
      },
      "source": [
        "dataset.Cuisine.unique()"
      ],
      "execution_count": null,
      "outputs": [
        {
          "output_type": "execute_result",
          "data": {
            "text/plain": [
              "array(['American', 'Japanese', 'Vietnamese/Cambodian/Malaysia', 'Spanish',\n",
              "       'Seafood', 'Donuts', 'Indian', 'Delicatessen', 'Chicken', 'French',\n",
              "       'Bakery', 'Chinese', 'Caribbean', 'Turkish',\n",
              "       'Bottled beverages, including water, sodas, juices, etc.', 'Thai',\n",
              "       'Hamburgers', 'Jewish/Kosher', 'Ice Cream, Gelato, Yogurt, Ices',\n",
              "       'Hotdogs', 'Vegetarian', 'Pizza', 'Greek', 'Caf√©/Coffee/Tea',\n",
              "       'Steak', 'Armenian', 'African', 'Tex-Mex', 'Filipino',\n",
              "       'Juice, Smoothies, Fruit Salads', 'Mexican', 'Pizza/Italian',\n",
              "       'Korean', 'Asian',\n",
              "       'Latin (Cuban, Dominican, Puerto Rican, South & Central American)',\n",
              "       'Italian', 'Soul Food', 'Russian', 'Brazilian', 'Mediterranean',\n",
              "       'Chinese/Cuban', 'Bagels/Pretzels', 'Continental', 'Peruvian',\n",
              "       'Bangladeshi', 'Eastern European',\n",
              "       'Sandwiches/Salads/Mixed Buffet', 'English', 'Other', 'Irish',\n",
              "       'Ethiopian', 'Hawaiian', 'Sandwiches', 'Salads', 'Middle Eastern',\n",
              "       'Moroccan', 'Barbecue', 'Soups & Sandwiches', 'Southwestern',\n",
              "       'Polish', 'Pancakes/Waffles', 'Australian', 'Chinese/Japanese',\n",
              "       'Iranian', 'Pakistani', 'Creole', 'Hotdogs/Pretzels', 'Tapas',\n",
              "       'Cajun', 'Nuts/Confectionary', 'Indonesian', 'Egyptian', 'Soups',\n",
              "       'Afghan', 'Portuguese', 'Fruits/Vegetables', 'Creole/Cajun',\n",
              "       'Californian', 'Not Listed/Not Applicable', 'German', 'Chilean',\n",
              "       'Scandinavian', 'Czech', 'Basque'], dtype=object)"
            ]
          },
          "metadata": {
            "tags": []
          },
          "execution_count": 12
        }
      ]
    },
    {
      "cell_type": "code",
      "metadata": {
        "id": "edfEd5o3mzyx",
        "colab_type": "code",
        "colab": {
          "base_uri": "https://localhost:8080/"
        },
        "outputId": "fa5593d9-32e8-45b9-cafd-bc461258941d"
      },
      "source": [
        "dataset['Cuisine'] = dataset['Cuisine'].replace(['Iranian','Middle Eastern','Indonesian','Bangladeshi','Afghan','Indian','Turkish','Japanese','Vietnamese/Cambodian/Malaysia','Korean','Asian','Filipino','Chinese/Japanese','Chinese','Thai'],'Asia')\n",
        "dataset['Cuisine'] = dataset['Cuisine'].replace(['Spanish','Italian','French','English','Eastern European','Mediterranean','Greek','Russian','German','Irish','Polish','Portuguese','Czech','Basque','Scandinavian'],'Europe')\n",
        "dataset['Cuisine'] = dataset['Cuisine'].replace(['American','Donuts','Caribbean','Tex-Mex','Mexican','Latin (Cuban, Dominican, Puerto Rican, South & Central American)','Brazilian','Chinese/Cuban','Soul Food','Peruvian','Bagels/Pretzels','Hawaiian','Barbecue','Southwestern','Cajun','Creole/Cajun','Californian','Chilean'], 'Americas')\n",
        "dataset['Cuisine'] = dataset['Cuisine'].replace(['Ethiopian','Egyptian','Moroccan'],'Africa')\n",
        "dataset['Cuisine'] = np.where(dataset['Cuisine'].isin(['Asia','Africa','Americas','Europe']), dataset['Cuisine'], 'Others')\n",
        "print(dataset.Cuisine.unique())\n",
        "print(dataset.Cuisine.nunique())"
      ],
      "execution_count": null,
      "outputs": [
        {
          "output_type": "stream",
          "text": [
            "['Americas' 'Asia' 'Europe' 'Others' 'Africa']\n",
            "5\n"
          ],
          "name": "stdout"
        }
      ]
    },
    {
      "cell_type": "markdown",
      "metadata": {
        "id": "r2ferNSlrCrF",
        "colab_type": "text"
      },
      "source": [
        "## Dummy-fying cuisine and violation codes"
      ]
    },
    {
      "cell_type": "code",
      "metadata": {
        "id": "VO4VnpRbskME",
        "colab_type": "code",
        "colab": {}
      },
      "source": [
        "# same thing with cuisine and violation code\n",
        "dummies_cuisine = pd.get_dummies(dataset['Cuisine'], drop_first=True)\n",
        "dataset = dataset.merge(dummies_cuisine, left_index=True, right_index=True)\n",
        "dummies_code = pd.get_dummies(dataset['VIOLATION CODE'], drop_first=True)\n",
        "dataset = dataset.merge(dummies_code, left_index=True, right_index=True)"
      ],
      "execution_count": null,
      "outputs": []
    },
    {
      "cell_type": "code",
      "metadata": {
        "id": "EiKDP34DtZV0",
        "colab_type": "code",
        "colab": {}
      },
      "source": [
        "# creating a second dataframe where we remove GRADE as we first need only numeric values for the multivariate linear regression\n",
        "dataset_num = dataset.drop(['BORO','Cuisine','VIOLATION CODE','GRADE'], axis=1)"
      ],
      "execution_count": null,
      "outputs": []
    },
    {
      "cell_type": "code",
      "metadata": {
        "id": "ts6UQ3SwKha_",
        "colab_type": "code",
        "colab": {
          "base_uri": "https://localhost:8080/",
          "height": 241
        },
        "outputId": "003ce35d-f224-44f7-e15a-6624c92f556d"
      },
      "source": [
        "dataset_num.head(5)"
      ],
      "execution_count": null,
      "outputs": [
        {
          "output_type": "execute_result",
          "data": {
            "text/html": [
              "<div>\n",
              "<style scoped>\n",
              "    .dataframe tbody tr th:only-of-type {\n",
              "        vertical-align: middle;\n",
              "    }\n",
              "\n",
              "    .dataframe tbody tr th {\n",
              "        vertical-align: top;\n",
              "    }\n",
              "\n",
              "    .dataframe thead th {\n",
              "        text-align: right;\n",
              "    }\n",
              "</style>\n",
              "<table border=\"1\" class=\"dataframe\">\n",
              "  <thead>\n",
              "    <tr style=\"text-align: right;\">\n",
              "      <th></th>\n",
              "      <th>SCORE</th>\n",
              "      <th>Bronx</th>\n",
              "      <th>Brooklyn</th>\n",
              "      <th>Manhattan</th>\n",
              "      <th>Queens</th>\n",
              "      <th>Staten Island</th>\n",
              "      <th>Americas</th>\n",
              "      <th>Asia</th>\n",
              "      <th>Europe</th>\n",
              "      <th>Others</th>\n",
              "      <th>02B</th>\n",
              "      <th>02C</th>\n",
              "      <th>02D</th>\n",
              "      <th>02E</th>\n",
              "      <th>02F</th>\n",
              "      <th>02G</th>\n",
              "      <th>02H</th>\n",
              "      <th>02I</th>\n",
              "      <th>03A</th>\n",
              "      <th>03B</th>\n",
              "      <th>03C</th>\n",
              "      <th>03D</th>\n",
              "      <th>03E</th>\n",
              "      <th>03G</th>\n",
              "      <th>04A</th>\n",
              "      <th>04B</th>\n",
              "      <th>04C</th>\n",
              "      <th>04D</th>\n",
              "      <th>04E</th>\n",
              "      <th>04F</th>\n",
              "      <th>04G</th>\n",
              "      <th>04H</th>\n",
              "      <th>04J</th>\n",
              "      <th>04K</th>\n",
              "      <th>04L</th>\n",
              "      <th>04M</th>\n",
              "      <th>04N</th>\n",
              "      <th>04O</th>\n",
              "      <th>05A</th>\n",
              "      <th>05B</th>\n",
              "      <th>05C</th>\n",
              "      <th>05D</th>\n",
              "      <th>05E</th>\n",
              "      <th>05F</th>\n",
              "      <th>05H</th>\n",
              "      <th>06A</th>\n",
              "      <th>06B</th>\n",
              "      <th>06C</th>\n",
              "      <th>06D</th>\n",
              "      <th>06E</th>\n",
              "      <th>06F</th>\n",
              "      <th>06G</th>\n",
              "      <th>06H</th>\n",
              "      <th>06I</th>\n",
              "      <th>07A</th>\n",
              "      <th>08A</th>\n",
              "      <th>08B</th>\n",
              "      <th>08C</th>\n",
              "      <th>09A</th>\n",
              "      <th>09B</th>\n",
              "      <th>09C</th>\n",
              "      <th>10A</th>\n",
              "      <th>10B</th>\n",
              "      <th>10C</th>\n",
              "      <th>10D</th>\n",
              "      <th>10E</th>\n",
              "      <th>10F</th>\n",
              "      <th>10G</th>\n",
              "      <th>10H</th>\n",
              "      <th>10I</th>\n",
              "      <th>10J</th>\n",
              "      <th>22F</th>\n",
              "      <th>22G</th>\n",
              "    </tr>\n",
              "  </thead>\n",
              "  <tbody>\n",
              "    <tr>\n",
              "      <th>2</th>\n",
              "      <td>20.0</td>\n",
              "      <td>0</td>\n",
              "      <td>0</td>\n",
              "      <td>1</td>\n",
              "      <td>0</td>\n",
              "      <td>0</td>\n",
              "      <td>1</td>\n",
              "      <td>0</td>\n",
              "      <td>0</td>\n",
              "      <td>0</td>\n",
              "      <td>0</td>\n",
              "      <td>0</td>\n",
              "      <td>0</td>\n",
              "      <td>0</td>\n",
              "      <td>0</td>\n",
              "      <td>0</td>\n",
              "      <td>0</td>\n",
              "      <td>0</td>\n",
              "      <td>0</td>\n",
              "      <td>0</td>\n",
              "      <td>0</td>\n",
              "      <td>0</td>\n",
              "      <td>0</td>\n",
              "      <td>0</td>\n",
              "      <td>0</td>\n",
              "      <td>0</td>\n",
              "      <td>0</td>\n",
              "      <td>0</td>\n",
              "      <td>0</td>\n",
              "      <td>0</td>\n",
              "      <td>0</td>\n",
              "      <td>0</td>\n",
              "      <td>0</td>\n",
              "      <td>0</td>\n",
              "      <td>1</td>\n",
              "      <td>0</td>\n",
              "      <td>0</td>\n",
              "      <td>0</td>\n",
              "      <td>0</td>\n",
              "      <td>0</td>\n",
              "      <td>0</td>\n",
              "      <td>0</td>\n",
              "      <td>0</td>\n",
              "      <td>0</td>\n",
              "      <td>0</td>\n",
              "      <td>0</td>\n",
              "      <td>0</td>\n",
              "      <td>0</td>\n",
              "      <td>0</td>\n",
              "      <td>0</td>\n",
              "      <td>0</td>\n",
              "      <td>0</td>\n",
              "      <td>0</td>\n",
              "      <td>0</td>\n",
              "      <td>0</td>\n",
              "      <td>0</td>\n",
              "      <td>0</td>\n",
              "      <td>0</td>\n",
              "      <td>0</td>\n",
              "      <td>0</td>\n",
              "      <td>0</td>\n",
              "      <td>0</td>\n",
              "      <td>0</td>\n",
              "      <td>0</td>\n",
              "      <td>0</td>\n",
              "      <td>0</td>\n",
              "      <td>0</td>\n",
              "      <td>0</td>\n",
              "      <td>0</td>\n",
              "      <td>0</td>\n",
              "      <td>0</td>\n",
              "      <td>0</td>\n",
              "      <td>0</td>\n",
              "    </tr>\n",
              "    <tr>\n",
              "      <th>5</th>\n",
              "      <td>11.0</td>\n",
              "      <td>0</td>\n",
              "      <td>0</td>\n",
              "      <td>1</td>\n",
              "      <td>0</td>\n",
              "      <td>0</td>\n",
              "      <td>0</td>\n",
              "      <td>1</td>\n",
              "      <td>0</td>\n",
              "      <td>0</td>\n",
              "      <td>0</td>\n",
              "      <td>0</td>\n",
              "      <td>0</td>\n",
              "      <td>0</td>\n",
              "      <td>0</td>\n",
              "      <td>0</td>\n",
              "      <td>0</td>\n",
              "      <td>0</td>\n",
              "      <td>0</td>\n",
              "      <td>0</td>\n",
              "      <td>0</td>\n",
              "      <td>0</td>\n",
              "      <td>0</td>\n",
              "      <td>0</td>\n",
              "      <td>0</td>\n",
              "      <td>0</td>\n",
              "      <td>0</td>\n",
              "      <td>0</td>\n",
              "      <td>0</td>\n",
              "      <td>0</td>\n",
              "      <td>0</td>\n",
              "      <td>0</td>\n",
              "      <td>0</td>\n",
              "      <td>0</td>\n",
              "      <td>0</td>\n",
              "      <td>0</td>\n",
              "      <td>0</td>\n",
              "      <td>0</td>\n",
              "      <td>0</td>\n",
              "      <td>0</td>\n",
              "      <td>0</td>\n",
              "      <td>0</td>\n",
              "      <td>0</td>\n",
              "      <td>0</td>\n",
              "      <td>0</td>\n",
              "      <td>0</td>\n",
              "      <td>0</td>\n",
              "      <td>0</td>\n",
              "      <td>0</td>\n",
              "      <td>0</td>\n",
              "      <td>0</td>\n",
              "      <td>0</td>\n",
              "      <td>0</td>\n",
              "      <td>0</td>\n",
              "      <td>0</td>\n",
              "      <td>1</td>\n",
              "      <td>0</td>\n",
              "      <td>0</td>\n",
              "      <td>0</td>\n",
              "      <td>0</td>\n",
              "      <td>0</td>\n",
              "      <td>0</td>\n",
              "      <td>0</td>\n",
              "      <td>0</td>\n",
              "      <td>0</td>\n",
              "      <td>0</td>\n",
              "      <td>0</td>\n",
              "      <td>0</td>\n",
              "      <td>0</td>\n",
              "      <td>0</td>\n",
              "      <td>0</td>\n",
              "      <td>0</td>\n",
              "      <td>0</td>\n",
              "    </tr>\n",
              "    <tr>\n",
              "      <th>6</th>\n",
              "      <td>8.0</td>\n",
              "      <td>0</td>\n",
              "      <td>0</td>\n",
              "      <td>0</td>\n",
              "      <td>0</td>\n",
              "      <td>1</td>\n",
              "      <td>0</td>\n",
              "      <td>1</td>\n",
              "      <td>0</td>\n",
              "      <td>0</td>\n",
              "      <td>0</td>\n",
              "      <td>0</td>\n",
              "      <td>0</td>\n",
              "      <td>0</td>\n",
              "      <td>0</td>\n",
              "      <td>0</td>\n",
              "      <td>0</td>\n",
              "      <td>0</td>\n",
              "      <td>0</td>\n",
              "      <td>0</td>\n",
              "      <td>0</td>\n",
              "      <td>0</td>\n",
              "      <td>0</td>\n",
              "      <td>0</td>\n",
              "      <td>0</td>\n",
              "      <td>0</td>\n",
              "      <td>0</td>\n",
              "      <td>0</td>\n",
              "      <td>0</td>\n",
              "      <td>0</td>\n",
              "      <td>0</td>\n",
              "      <td>0</td>\n",
              "      <td>0</td>\n",
              "      <td>0</td>\n",
              "      <td>0</td>\n",
              "      <td>0</td>\n",
              "      <td>0</td>\n",
              "      <td>0</td>\n",
              "      <td>0</td>\n",
              "      <td>0</td>\n",
              "      <td>0</td>\n",
              "      <td>0</td>\n",
              "      <td>0</td>\n",
              "      <td>0</td>\n",
              "      <td>0</td>\n",
              "      <td>0</td>\n",
              "      <td>0</td>\n",
              "      <td>0</td>\n",
              "      <td>0</td>\n",
              "      <td>0</td>\n",
              "      <td>0</td>\n",
              "      <td>0</td>\n",
              "      <td>0</td>\n",
              "      <td>0</td>\n",
              "      <td>0</td>\n",
              "      <td>0</td>\n",
              "      <td>0</td>\n",
              "      <td>0</td>\n",
              "      <td>0</td>\n",
              "      <td>0</td>\n",
              "      <td>0</td>\n",
              "      <td>0</td>\n",
              "      <td>0</td>\n",
              "      <td>0</td>\n",
              "      <td>0</td>\n",
              "      <td>0</td>\n",
              "      <td>1</td>\n",
              "      <td>0</td>\n",
              "      <td>0</td>\n",
              "      <td>0</td>\n",
              "      <td>0</td>\n",
              "      <td>0</td>\n",
              "      <td>0</td>\n",
              "    </tr>\n",
              "    <tr>\n",
              "      <th>7</th>\n",
              "      <td>10.0</td>\n",
              "      <td>1</td>\n",
              "      <td>0</td>\n",
              "      <td>0</td>\n",
              "      <td>0</td>\n",
              "      <td>0</td>\n",
              "      <td>0</td>\n",
              "      <td>0</td>\n",
              "      <td>1</td>\n",
              "      <td>0</td>\n",
              "      <td>0</td>\n",
              "      <td>0</td>\n",
              "      <td>0</td>\n",
              "      <td>0</td>\n",
              "      <td>0</td>\n",
              "      <td>0</td>\n",
              "      <td>0</td>\n",
              "      <td>0</td>\n",
              "      <td>0</td>\n",
              "      <td>0</td>\n",
              "      <td>0</td>\n",
              "      <td>0</td>\n",
              "      <td>0</td>\n",
              "      <td>0</td>\n",
              "      <td>0</td>\n",
              "      <td>0</td>\n",
              "      <td>0</td>\n",
              "      <td>0</td>\n",
              "      <td>0</td>\n",
              "      <td>0</td>\n",
              "      <td>0</td>\n",
              "      <td>0</td>\n",
              "      <td>0</td>\n",
              "      <td>0</td>\n",
              "      <td>0</td>\n",
              "      <td>0</td>\n",
              "      <td>0</td>\n",
              "      <td>0</td>\n",
              "      <td>0</td>\n",
              "      <td>0</td>\n",
              "      <td>0</td>\n",
              "      <td>0</td>\n",
              "      <td>0</td>\n",
              "      <td>0</td>\n",
              "      <td>0</td>\n",
              "      <td>0</td>\n",
              "      <td>0</td>\n",
              "      <td>0</td>\n",
              "      <td>0</td>\n",
              "      <td>0</td>\n",
              "      <td>0</td>\n",
              "      <td>0</td>\n",
              "      <td>0</td>\n",
              "      <td>0</td>\n",
              "      <td>0</td>\n",
              "      <td>0</td>\n",
              "      <td>0</td>\n",
              "      <td>0</td>\n",
              "      <td>0</td>\n",
              "      <td>0</td>\n",
              "      <td>0</td>\n",
              "      <td>0</td>\n",
              "      <td>1</td>\n",
              "      <td>0</td>\n",
              "      <td>0</td>\n",
              "      <td>0</td>\n",
              "      <td>0</td>\n",
              "      <td>0</td>\n",
              "      <td>0</td>\n",
              "      <td>0</td>\n",
              "      <td>0</td>\n",
              "      <td>0</td>\n",
              "      <td>0</td>\n",
              "    </tr>\n",
              "    <tr>\n",
              "      <th>10</th>\n",
              "      <td>13.0</td>\n",
              "      <td>0</td>\n",
              "      <td>0</td>\n",
              "      <td>1</td>\n",
              "      <td>0</td>\n",
              "      <td>0</td>\n",
              "      <td>0</td>\n",
              "      <td>0</td>\n",
              "      <td>0</td>\n",
              "      <td>1</td>\n",
              "      <td>0</td>\n",
              "      <td>0</td>\n",
              "      <td>0</td>\n",
              "      <td>0</td>\n",
              "      <td>0</td>\n",
              "      <td>0</td>\n",
              "      <td>0</td>\n",
              "      <td>0</td>\n",
              "      <td>0</td>\n",
              "      <td>0</td>\n",
              "      <td>0</td>\n",
              "      <td>0</td>\n",
              "      <td>0</td>\n",
              "      <td>0</td>\n",
              "      <td>0</td>\n",
              "      <td>0</td>\n",
              "      <td>0</td>\n",
              "      <td>0</td>\n",
              "      <td>0</td>\n",
              "      <td>0</td>\n",
              "      <td>0</td>\n",
              "      <td>0</td>\n",
              "      <td>0</td>\n",
              "      <td>0</td>\n",
              "      <td>0</td>\n",
              "      <td>0</td>\n",
              "      <td>0</td>\n",
              "      <td>0</td>\n",
              "      <td>0</td>\n",
              "      <td>0</td>\n",
              "      <td>0</td>\n",
              "      <td>0</td>\n",
              "      <td>0</td>\n",
              "      <td>0</td>\n",
              "      <td>0</td>\n",
              "      <td>0</td>\n",
              "      <td>0</td>\n",
              "      <td>0</td>\n",
              "      <td>0</td>\n",
              "      <td>0</td>\n",
              "      <td>0</td>\n",
              "      <td>0</td>\n",
              "      <td>0</td>\n",
              "      <td>0</td>\n",
              "      <td>0</td>\n",
              "      <td>0</td>\n",
              "      <td>0</td>\n",
              "      <td>0</td>\n",
              "      <td>0</td>\n",
              "      <td>0</td>\n",
              "      <td>0</td>\n",
              "      <td>0</td>\n",
              "      <td>1</td>\n",
              "      <td>0</td>\n",
              "      <td>0</td>\n",
              "      <td>0</td>\n",
              "      <td>0</td>\n",
              "      <td>0</td>\n",
              "      <td>0</td>\n",
              "      <td>0</td>\n",
              "      <td>0</td>\n",
              "      <td>0</td>\n",
              "      <td>0</td>\n",
              "    </tr>\n",
              "  </tbody>\n",
              "</table>\n",
              "</div>"
            ],
            "text/plain": [
              "    SCORE  Bronx  Brooklyn  Manhattan  Queens  ...  10H  10I  10J  22F  22G\n",
              "2    20.0      0         0          1       0  ...    0    0    0    0    0\n",
              "5    11.0      0         0          1       0  ...    0    0    0    0    0\n",
              "6     8.0      0         0          0       0  ...    0    0    0    0    0\n",
              "7    10.0      1         0          0       0  ...    0    0    0    0    0\n",
              "10   13.0      0         0          1       0  ...    0    0    0    0    0\n",
              "\n",
              "[5 rows x 73 columns]"
            ]
          },
          "metadata": {
            "tags": []
          },
          "execution_count": 16
        }
      ]
    },
    {
      "cell_type": "markdown",
      "metadata": {
        "id": "OD5MbjTKfeBL",
        "colab_type": "text"
      },
      "source": [
        "# Linear regression multi-variable"
      ]
    },
    {
      "cell_type": "code",
      "metadata": {
        "id": "79Jcz7fJflVI",
        "colab_type": "code",
        "colab": {}
      },
      "source": [
        "# defining X and y, y being the SCORE and X being all other columns *not SCORE*\n",
        "y = dataset_num[\"SCORE\"]\n",
        "X = dataset_num.drop(\"SCORE\", axis=1)"
      ],
      "execution_count": null,
      "outputs": []
    },
    {
      "cell_type": "code",
      "metadata": {
        "id": "rbp9EObE8bsu",
        "colab_type": "code",
        "colab": {}
      },
      "source": [
        "dataset_num.SCORE = dataset_num.SCORE.astype(int)\n",
        "# removing -1 -0 scores\n",
        "dataset_num= dataset_num.drop(dataset_num[(dataset_num['SCORE'] == -1)].index)\n",
        "dataset_num= dataset_num.drop(dataset_num[(dataset_num['SCORE'] == -0)].index)"
      ],
      "execution_count": null,
      "outputs": []
    },
    {
      "cell_type": "code",
      "metadata": {
        "id": "drR38OJYuxTy",
        "colab_type": "code",
        "colab": {}
      },
      "source": [
        "from sklearn.model_selection import train_test_split\n",
        "\n",
        "X_train, X_test, y_train, y_test = train_test_split(X, y, test_size=0.2, random_state=0)"
      ],
      "execution_count": null,
      "outputs": []
    },
    {
      "cell_type": "code",
      "metadata": {
        "id": "-M-ghbQbu5fU",
        "colab_type": "code",
        "colab": {
          "base_uri": "https://localhost:8080/",
          "height": 34
        },
        "outputId": "a8993412-5152-48ad-ef4a-42862831949a"
      },
      "source": [
        "from sklearn.preprocessing import StandardScaler\n",
        "\n",
        "sc_X = StandardScaler()\n",
        "X_train = sc_X.fit_transform(X_train)\n",
        "X_test = sc_X.transform(X_test)\n",
        "\n",
        "from sklearn.linear_model import LinearRegression\n",
        "reg = LinearRegression()\n",
        "\n",
        "reg.fit(X_train, y_train)"
      ],
      "execution_count": null,
      "outputs": [
        {
          "output_type": "execute_result",
          "data": {
            "text/plain": [
              "LinearRegression(copy_X=True, fit_intercept=True, n_jobs=None, normalize=False)"
            ]
          },
          "metadata": {
            "tags": []
          },
          "execution_count": 20
        }
      ]
    },
    {
      "cell_type": "code",
      "metadata": {
        "id": "Lnn_m5Vfy8g0",
        "colab_type": "code",
        "colab": {
          "base_uri": "https://localhost:8080/",
          "height": 51
        },
        "outputId": "90985734-8500-4b26-8daf-5c558a9cfb2c"
      },
      "source": [
        "print(\"Score Train:\",reg.score (X_train, y_train))\n",
        "print(\"Score Test:\",reg.score (X_test, y_test))"
      ],
      "execution_count": null,
      "outputs": [
        {
          "output_type": "stream",
          "text": [
            "Score Train: 0.10298213096324194\n",
            "Score Test: -2.740499180745868e+19\n"
          ],
          "name": "stdout"
        }
      ]
    },
    {
      "cell_type": "code",
      "metadata": {
        "id": "pgOpADLzvruW",
        "colab_type": "code",
        "colab": {
          "base_uri": "https://localhost:8080/",
          "height": 170
        },
        "outputId": "fc359d84-8950-4f46-a914-7b75bd503f35"
      },
      "source": [
        "predictions = reg.predict(X_test)\n",
        "print(predictions[0:50])"
      ],
      "execution_count": null,
      "outputs": [
        {
          "output_type": "stream",
          "text": [
            "[13.33684233 11.04697865 10.47094175 10.90479291 11.15269267 15.15407092\n",
            " 12.29498589 11.86578359  9.5697961  16.32370904 16.1716541  12.48808753\n",
            " 16.47699669 14.73899062 11.30911561 16.41994601 11.79254551  9.40520954\n",
            " 10.47094175 11.70119702 12.88253512 12.24762568  9.5697961  15.01331489\n",
            " 12.71270164 15.33260798 15.57178667  9.88863944 11.70119702 11.11532825\n",
            " 11.72419591 16.10315949 11.76954662 14.09870488 10.37292675 20.33026225\n",
            " 16.00488185 11.04697865 10.41206921  9.95698904 12.4884376  15.65768941\n",
            " 15.09702024 13.34776697 10.37470479 16.98061518 11.86578359 10.30635519\n",
            " 12.95088472  9.95698904]\n"
          ],
          "name": "stdout"
        }
      ]
    },
    {
      "cell_type": "code",
      "metadata": {
        "id": "l5WSfLBdP-tG",
        "colab_type": "code",
        "colab": {
          "base_uri": "https://localhost:8080/",
          "height": 204
        },
        "outputId": "af6a9881-789d-4719-88ef-3836f895ae4f"
      },
      "source": [
        "# comparing predictions vs y_test\n",
        "predictions_df = pd.DataFrame({'Actual': y_test, 'Predicted': predictions})\n",
        "print(predictions_df.head(10))"
      ],
      "execution_count": null,
      "outputs": [
        {
          "output_type": "stream",
          "text": [
            "        Actual  Predicted\n",
            "132273    13.0  13.336842\n",
            "34021     13.0  11.046979\n",
            "76624     10.0  10.470942\n",
            "32034     12.0  10.904793\n",
            "21302     13.0  11.152693\n",
            "94288     13.0  15.154071\n",
            "40026      6.0  12.294986\n",
            "118098    12.0  11.865784\n",
            "87551      8.0   9.569796\n",
            "96644     35.0  16.323709\n"
          ],
          "name": "stdout"
        }
      ]
    },
    {
      "cell_type": "code",
      "metadata": {
        "id": "A-St2biSQRD7",
        "colab_type": "code",
        "colab": {
          "base_uri": "https://localhost:8080/",
          "height": 562
        },
        "outputId": "870b7dfb-e42d-4f2f-e0db-92caf12e1075"
      },
      "source": [
        "# plotting actual vs predicted values\n",
        "pred_plot = predictions_df.head(25)\n",
        "pred_plot.plot(kind='bar',figsize=(10,8), fontsize=15, width=0.8)\n",
        "plt.ylabel('Score', fontsize=15)\n",
        "plt.legend(fontsize= 15)\n",
        "plt.title('Actual scores vs model predictions', fontsize=22, fontweight='bold')"
      ],
      "execution_count": null,
      "outputs": [
        {
          "output_type": "execute_result",
          "data": {
            "text/plain": [
              "Text(0.5, 1.0, 'Actual scores vs model predictions')"
            ]
          },
          "metadata": {
            "tags": []
          },
          "execution_count": 24
        },
        {
          "output_type": "display_data",
          "data": {
            "image/png": "[encoded data removed]",
            "text/plain": [
              "<Figure size 720x576 with 1 Axes>"
            ]
          },
          "metadata": {
            "tags": [],
            "needs_background": "light"
          }
        }
      ]
    },
    {
      "cell_type": "code",
      "metadata": {
        "id": "BvnpPyCDm8EE",
        "colab_type": "code",
        "colab": {
          "base_uri": "https://localhost:8080/",
          "height": 359
        },
        "outputId": "a24937a1-0c51-4fbb-bd8a-f9ecafe7f786"
      },
      "source": [
        "coef_reg = pd.DataFrame({\"Features\":dataset_num.columns[1:],\n",
        "                                    \"Coef\": reg.coef_})\n",
        "\n",
        "# positive impact of feature on SCORE (i.e. SCORE gets larger -> worse)\n",
        "coef_reg.nlargest(10, 'Coef')"
      ],
      "execution_count": null,
      "outputs": [
        {
          "output_type": "execute_result",
          "data": {
            "text/html": [
              "<div>\n",
              "<style scoped>\n",
              "    .dataframe tbody tr th:only-of-type {\n",
              "        vertical-align: middle;\n",
              "    }\n",
              "\n",
              "    .dataframe tbody tr th {\n",
              "        vertical-align: top;\n",
              "    }\n",
              "\n",
              "    .dataframe thead th {\n",
              "        text-align: right;\n",
              "    }\n",
              "</style>\n",
              "<table border=\"1\" class=\"dataframe\">\n",
              "  <thead>\n",
              "    <tr style=\"text-align: right;\">\n",
              "      <th></th>\n",
              "      <th>Features</th>\n",
              "      <th>Coef</th>\n",
              "    </tr>\n",
              "  </thead>\n",
              "  <tbody>\n",
              "    <tr>\n",
              "      <th>42</th>\n",
              "      <td>05F</td>\n",
              "      <td>0.606763</td>\n",
              "    </tr>\n",
              "    <tr>\n",
              "      <th>39</th>\n",
              "      <td>05C</td>\n",
              "      <td>0.566875</td>\n",
              "    </tr>\n",
              "    <tr>\n",
              "      <th>23</th>\n",
              "      <td>04A</td>\n",
              "      <td>0.548926</td>\n",
              "    </tr>\n",
              "    <tr>\n",
              "      <th>40</th>\n",
              "      <td>05D</td>\n",
              "      <td>0.489203</td>\n",
              "    </tr>\n",
              "    <tr>\n",
              "      <th>41</th>\n",
              "      <td>05E</td>\n",
              "      <td>0.422082</td>\n",
              "    </tr>\n",
              "    <tr>\n",
              "      <th>43</th>\n",
              "      <td>05H</td>\n",
              "      <td>0.413256</td>\n",
              "    </tr>\n",
              "    <tr>\n",
              "      <th>35</th>\n",
              "      <td>04N</td>\n",
              "      <td>0.384426</td>\n",
              "    </tr>\n",
              "    <tr>\n",
              "      <th>54</th>\n",
              "      <td>08A</td>\n",
              "      <td>0.335225</td>\n",
              "    </tr>\n",
              "    <tr>\n",
              "      <th>34</th>\n",
              "      <td>04M</td>\n",
              "      <td>0.331856</td>\n",
              "    </tr>\n",
              "    <tr>\n",
              "      <th>50</th>\n",
              "      <td>06G</td>\n",
              "      <td>0.324047</td>\n",
              "    </tr>\n",
              "  </tbody>\n",
              "</table>\n",
              "</div>"
            ],
            "text/plain": [
              "   Features      Coef\n",
              "42      05F  0.606763\n",
              "39      05C  0.566875\n",
              "23      04A  0.548926\n",
              "40      05D  0.489203\n",
              "41      05E  0.422082\n",
              "43      05H  0.413256\n",
              "35      04N  0.384426\n",
              "54      08A  0.335225\n",
              "34      04M  0.331856\n",
              "50      06G  0.324047"
            ]
          },
          "metadata": {
            "tags": []
          },
          "execution_count": 78
        }
      ]
    },
    {
      "cell_type": "code",
      "metadata": {
        "id": "t6mGMhhWrCRH",
        "colab_type": "code",
        "colab": {
          "base_uri": "https://localhost:8080/",
          "height": 419
        },
        "outputId": "a8fbbbf6-2540-46fc-aeaf-5f678a83f2ac"
      },
      "source": [
        "coef_reg['abs_coef'] = coef_reg['Coef'].abs()\n",
        "coef_reg.sort_values('abs_coef', ascending=True)[['Features', 'Coef']]"
      ],
      "execution_count": null,
      "outputs": [
        {
          "output_type": "execute_result",
          "data": {
            "text/html": [
              "<div>\n",
              "<style scoped>\n",
              "    .dataframe tbody tr th:only-of-type {\n",
              "        vertical-align: middle;\n",
              "    }\n",
              "\n",
              "    .dataframe tbody tr th {\n",
              "        vertical-align: top;\n",
              "    }\n",
              "\n",
              "    .dataframe thead th {\n",
              "        text-align: right;\n",
              "    }\n",
              "</style>\n",
              "<table border=\"1\" class=\"dataframe\">\n",
              "  <thead>\n",
              "    <tr style=\"text-align: right;\">\n",
              "      <th></th>\n",
              "      <th>Features</th>\n",
              "      <th>Coef</th>\n",
              "    </tr>\n",
              "  </thead>\n",
              "  <tbody>\n",
              "    <tr>\n",
              "      <th>24</th>\n",
              "      <td>04B</td>\n",
              "      <td>4.121122e-05</td>\n",
              "    </tr>\n",
              "    <tr>\n",
              "      <th>20</th>\n",
              "      <td>03D</td>\n",
              "      <td>3.038642e-02</td>\n",
              "    </tr>\n",
              "    <tr>\n",
              "      <th>12</th>\n",
              "      <td>02E</td>\n",
              "      <td>4.087849e-02</td>\n",
              "    </tr>\n",
              "    <tr>\n",
              "      <th>22</th>\n",
              "      <td>03G</td>\n",
              "      <td>4.318485e-02</td>\n",
              "    </tr>\n",
              "    <tr>\n",
              "      <th>29</th>\n",
              "      <td>04G</td>\n",
              "      <td>4.486461e-02</td>\n",
              "    </tr>\n",
              "    <tr>\n",
              "      <th>...</th>\n",
              "      <td>...</td>\n",
              "      <td>...</td>\n",
              "    </tr>\n",
              "    <tr>\n",
              "      <th>14</th>\n",
              "      <td>02G</td>\n",
              "      <td>2.946650e+00</td>\n",
              "    </tr>\n",
              "    <tr>\n",
              "      <th>33</th>\n",
              "      <td>04L</td>\n",
              "      <td>3.200873e+00</td>\n",
              "    </tr>\n",
              "    <tr>\n",
              "      <th>65</th>\n",
              "      <td>10F</td>\n",
              "      <td>3.245020e+00</td>\n",
              "    </tr>\n",
              "    <tr>\n",
              "      <th>54</th>\n",
              "      <td>08A</td>\n",
              "      <td>3.989468e+00</td>\n",
              "    </tr>\n",
              "    <tr>\n",
              "      <th>52</th>\n",
              "      <td>06I</td>\n",
              "      <td>5.536204e+12</td>\n",
              "    </tr>\n",
              "  </tbody>\n",
              "</table>\n",
              "<p>72 rows × 2 columns</p>\n",
              "</div>"
            ],
            "text/plain": [
              "   Features          Coef\n",
              "24      04B  4.121122e-05\n",
              "20      03D  3.038642e-02\n",
              "12      02E  4.087849e-02\n",
              "22      03G  4.318485e-02\n",
              "29      04G  4.486461e-02\n",
              "..      ...           ...\n",
              "14      02G  2.946650e+00\n",
              "33      04L  3.200873e+00\n",
              "65      10F  3.245020e+00\n",
              "54      08A  3.989468e+00\n",
              "52      06I  5.536204e+12\n",
              "\n",
              "[72 rows x 2 columns]"
            ]
          },
          "metadata": {
            "tags": []
          },
          "execution_count": 25
        }
      ]
    },
    {
      "cell_type": "code",
      "metadata": {
        "id": "aULUlfts1Fsr",
        "colab_type": "code",
        "colab": {
          "base_uri": "https://localhost:8080/",
          "height": 136
        },
        "outputId": "5c7fac44-265d-4cda-9f08-cbc4c623ed13"
      },
      "source": [
        "from sklearn.ensemble import RandomForestRegressor\n",
        "rfreg = RandomForestRegressor()\n",
        "rfreg.fit(X_train, y_train)"
      ],
      "execution_count": null,
      "outputs": [
        {
          "output_type": "execute_result",
          "data": {
            "text/plain": [
              "RandomForestRegressor(bootstrap=True, ccp_alpha=0.0, criterion='mse',\n",
              "                      max_depth=None, max_features='auto', max_leaf_nodes=None,\n",
              "                      max_samples=None, min_impurity_decrease=0.0,\n",
              "                      min_impurity_split=None, min_samples_leaf=1,\n",
              "                      min_samples_split=2, min_weight_fraction_leaf=0.0,\n",
              "                      n_estimators=100, n_jobs=None, oob_score=False,\n",
              "                      random_state=None, verbose=0, warm_start=False)"
            ]
          },
          "metadata": {
            "tags": []
          },
          "execution_count": 85
        }
      ]
    },
    {
      "cell_type": "code",
      "metadata": {
        "id": "v36HEHVC1weN",
        "colab_type": "code",
        "colab": {
          "base_uri": "https://localhost:8080/",
          "height": 51
        },
        "outputId": "57704bc4-7b32-4494-9d69-8e7a7f23a816"
      },
      "source": [
        "print(\"Score train:\", rfreg.score(X_train, y_train))\n",
        "print(\"Score test:\", rfreg.score(X_test, y_test))"
      ],
      "execution_count": null,
      "outputs": [
        {
          "output_type": "stream",
          "text": [
            "Score train: 0.12578214168411572\n",
            "Score test: 0.06873988986729096\n"
          ],
          "name": "stdout"
        }
      ]
    },
    {
      "cell_type": "markdown",
      "metadata": {
        "id": "JoRsexjBUUHj",
        "colab_type": "text"
      },
      "source": [
        "# Decision tree modeling"
      ]
    },
    {
      "cell_type": "markdown",
      "metadata": {
        "id": "-SSIHu7lam4J",
        "colab_type": "text"
      },
      "source": [
        "## First tree"
      ]
    },
    {
      "cell_type": "code",
      "metadata": {
        "id": "zqd3qJ_wXD_H",
        "colab_type": "code",
        "colab": {}
      },
      "source": [
        "# we take our 'initial' dataset and drop SCORE\n",
        "dataset_categ = dataset.drop(['SCORE'], axis=1)"
      ],
      "execution_count": null,
      "outputs": []
    },
    {
      "cell_type": "code",
      "metadata": {
        "id": "31W4W9mNXcQf",
        "colab_type": "code",
        "colab": {
          "base_uri": "https://localhost:8080/",
          "height": 241
        },
        "outputId": "e90c9301-2fa0-452f-e4a3-cce68c497d71"
      },
      "source": [
        "# dropping non dummies columns\n",
        "dataset_categ = dataset_categ.drop(['BORO','Cuisine','VIOLATION CODE'], axis=1)\n",
        "dataset_categ.head(5)"
      ],
      "execution_count": null,
      "outputs": [
        {
          "output_type": "execute_result",
          "data": {
            "text/html": [
              "<div>\n",
              "<style scoped>\n",
              "    .dataframe tbody tr th:only-of-type {\n",
              "        vertical-align: middle;\n",
              "    }\n",
              "\n",
              "    .dataframe tbody tr th {\n",
              "        vertical-align: top;\n",
              "    }\n",
              "\n",
              "    .dataframe thead th {\n",
              "        text-align: right;\n",
              "    }\n",
              "</style>\n",
              "<table border=\"1\" class=\"dataframe\">\n",
              "  <thead>\n",
              "    <tr style=\"text-align: right;\">\n",
              "      <th></th>\n",
              "      <th>GRADE</th>\n",
              "      <th>Bronx</th>\n",
              "      <th>Brooklyn</th>\n",
              "      <th>Manhattan</th>\n",
              "      <th>Queens</th>\n",
              "      <th>Staten Island</th>\n",
              "      <th>Americas</th>\n",
              "      <th>Asia</th>\n",
              "      <th>Europe</th>\n",
              "      <th>Others</th>\n",
              "      <th>02B</th>\n",
              "      <th>02C</th>\n",
              "      <th>02D</th>\n",
              "      <th>02E</th>\n",
              "      <th>02F</th>\n",
              "      <th>02G</th>\n",
              "      <th>02H</th>\n",
              "      <th>02I</th>\n",
              "      <th>03A</th>\n",
              "      <th>03B</th>\n",
              "      <th>03C</th>\n",
              "      <th>03D</th>\n",
              "      <th>03E</th>\n",
              "      <th>03G</th>\n",
              "      <th>04A</th>\n",
              "      <th>04B</th>\n",
              "      <th>04C</th>\n",
              "      <th>04D</th>\n",
              "      <th>04E</th>\n",
              "      <th>04F</th>\n",
              "      <th>04G</th>\n",
              "      <th>04H</th>\n",
              "      <th>04J</th>\n",
              "      <th>04K</th>\n",
              "      <th>04L</th>\n",
              "      <th>04M</th>\n",
              "      <th>04N</th>\n",
              "      <th>04O</th>\n",
              "      <th>05A</th>\n",
              "      <th>05B</th>\n",
              "      <th>05C</th>\n",
              "      <th>05D</th>\n",
              "      <th>05E</th>\n",
              "      <th>05F</th>\n",
              "      <th>05H</th>\n",
              "      <th>06A</th>\n",
              "      <th>06B</th>\n",
              "      <th>06C</th>\n",
              "      <th>06D</th>\n",
              "      <th>06E</th>\n",
              "      <th>06F</th>\n",
              "      <th>06G</th>\n",
              "      <th>06H</th>\n",
              "      <th>06I</th>\n",
              "      <th>07A</th>\n",
              "      <th>08A</th>\n",
              "      <th>08B</th>\n",
              "      <th>08C</th>\n",
              "      <th>09A</th>\n",
              "      <th>09B</th>\n",
              "      <th>09C</th>\n",
              "      <th>10A</th>\n",
              "      <th>10B</th>\n",
              "      <th>10C</th>\n",
              "      <th>10D</th>\n",
              "      <th>10E</th>\n",
              "      <th>10F</th>\n",
              "      <th>10G</th>\n",
              "      <th>10H</th>\n",
              "      <th>10I</th>\n",
              "      <th>10J</th>\n",
              "      <th>22F</th>\n",
              "      <th>22G</th>\n",
              "    </tr>\n",
              "  </thead>\n",
              "  <tbody>\n",
              "    <tr>\n",
              "      <th>2</th>\n",
              "      <td>B</td>\n",
              "      <td>0</td>\n",
              "      <td>0</td>\n",
              "      <td>1</td>\n",
              "      <td>0</td>\n",
              "      <td>0</td>\n",
              "      <td>1</td>\n",
              "      <td>0</td>\n",
              "      <td>0</td>\n",
              "      <td>0</td>\n",
              "      <td>0</td>\n",
              "      <td>0</td>\n",
              "      <td>0</td>\n",
              "      <td>0</td>\n",
              "      <td>0</td>\n",
              "      <td>0</td>\n",
              "      <td>0</td>\n",
              "      <td>0</td>\n",
              "      <td>0</td>\n",
              "      <td>0</td>\n",
              "      <td>0</td>\n",
              "      <td>0</td>\n",
              "      <td>0</td>\n",
              "      <td>0</td>\n",
              "      <td>0</td>\n",
              "      <td>0</td>\n",
              "      <td>0</td>\n",
              "      <td>0</td>\n",
              "      <td>0</td>\n",
              "      <td>0</td>\n",
              "      <td>0</td>\n",
              "      <td>0</td>\n",
              "      <td>0</td>\n",
              "      <td>0</td>\n",
              "      <td>1</td>\n",
              "      <td>0</td>\n",
              "      <td>0</td>\n",
              "      <td>0</td>\n",
              "      <td>0</td>\n",
              "      <td>0</td>\n",
              "      <td>0</td>\n",
              "      <td>0</td>\n",
              "      <td>0</td>\n",
              "      <td>0</td>\n",
              "      <td>0</td>\n",
              "      <td>0</td>\n",
              "      <td>0</td>\n",
              "      <td>0</td>\n",
              "      <td>0</td>\n",
              "      <td>0</td>\n",
              "      <td>0</td>\n",
              "      <td>0</td>\n",
              "      <td>0</td>\n",
              "      <td>0</td>\n",
              "      <td>0</td>\n",
              "      <td>0</td>\n",
              "      <td>0</td>\n",
              "      <td>0</td>\n",
              "      <td>0</td>\n",
              "      <td>0</td>\n",
              "      <td>0</td>\n",
              "      <td>0</td>\n",
              "      <td>0</td>\n",
              "      <td>0</td>\n",
              "      <td>0</td>\n",
              "      <td>0</td>\n",
              "      <td>0</td>\n",
              "      <td>0</td>\n",
              "      <td>0</td>\n",
              "      <td>0</td>\n",
              "      <td>0</td>\n",
              "      <td>0</td>\n",
              "      <td>0</td>\n",
              "    </tr>\n",
              "    <tr>\n",
              "      <th>5</th>\n",
              "      <td>A</td>\n",
              "      <td>0</td>\n",
              "      <td>0</td>\n",
              "      <td>1</td>\n",
              "      <td>0</td>\n",
              "      <td>0</td>\n",
              "      <td>0</td>\n",
              "      <td>1</td>\n",
              "      <td>0</td>\n",
              "      <td>0</td>\n",
              "      <td>0</td>\n",
              "      <td>0</td>\n",
              "      <td>0</td>\n",
              "      <td>0</td>\n",
              "      <td>0</td>\n",
              "      <td>0</td>\n",
              "      <td>0</td>\n",
              "      <td>0</td>\n",
              "      <td>0</td>\n",
              "      <td>0</td>\n",
              "      <td>0</td>\n",
              "      <td>0</td>\n",
              "      <td>0</td>\n",
              "      <td>0</td>\n",
              "      <td>0</td>\n",
              "      <td>0</td>\n",
              "      <td>0</td>\n",
              "      <td>0</td>\n",
              "      <td>0</td>\n",
              "      <td>0</td>\n",
              "      <td>0</td>\n",
              "      <td>0</td>\n",
              "      <td>0</td>\n",
              "      <td>0</td>\n",
              "      <td>0</td>\n",
              "      <td>0</td>\n",
              "      <td>0</td>\n",
              "      <td>0</td>\n",
              "      <td>0</td>\n",
              "      <td>0</td>\n",
              "      <td>0</td>\n",
              "      <td>0</td>\n",
              "      <td>0</td>\n",
              "      <td>0</td>\n",
              "      <td>0</td>\n",
              "      <td>0</td>\n",
              "      <td>0</td>\n",
              "      <td>0</td>\n",
              "      <td>0</td>\n",
              "      <td>0</td>\n",
              "      <td>0</td>\n",
              "      <td>0</td>\n",
              "      <td>0</td>\n",
              "      <td>0</td>\n",
              "      <td>0</td>\n",
              "      <td>1</td>\n",
              "      <td>0</td>\n",
              "      <td>0</td>\n",
              "      <td>0</td>\n",
              "      <td>0</td>\n",
              "      <td>0</td>\n",
              "      <td>0</td>\n",
              "      <td>0</td>\n",
              "      <td>0</td>\n",
              "      <td>0</td>\n",
              "      <td>0</td>\n",
              "      <td>0</td>\n",
              "      <td>0</td>\n",
              "      <td>0</td>\n",
              "      <td>0</td>\n",
              "      <td>0</td>\n",
              "      <td>0</td>\n",
              "      <td>0</td>\n",
              "    </tr>\n",
              "    <tr>\n",
              "      <th>6</th>\n",
              "      <td>A</td>\n",
              "      <td>0</td>\n",
              "      <td>0</td>\n",
              "      <td>0</td>\n",
              "      <td>0</td>\n",
              "      <td>1</td>\n",
              "      <td>0</td>\n",
              "      <td>1</td>\n",
              "      <td>0</td>\n",
              "      <td>0</td>\n",
              "      <td>0</td>\n",
              "      <td>0</td>\n",
              "      <td>0</td>\n",
              "      <td>0</td>\n",
              "      <td>0</td>\n",
              "      <td>0</td>\n",
              "      <td>0</td>\n",
              "      <td>0</td>\n",
              "      <td>0</td>\n",
              "      <td>0</td>\n",
              "      <td>0</td>\n",
              "      <td>0</td>\n",
              "      <td>0</td>\n",
              "      <td>0</td>\n",
              "      <td>0</td>\n",
              "      <td>0</td>\n",
              "      <td>0</td>\n",
              "      <td>0</td>\n",
              "      <td>0</td>\n",
              "      <td>0</td>\n",
              "      <td>0</td>\n",
              "      <td>0</td>\n",
              "      <td>0</td>\n",
              "      <td>0</td>\n",
              "      <td>0</td>\n",
              "      <td>0</td>\n",
              "      <td>0</td>\n",
              "      <td>0</td>\n",
              "      <td>0</td>\n",
              "      <td>0</td>\n",
              "      <td>0</td>\n",
              "      <td>0</td>\n",
              "      <td>0</td>\n",
              "      <td>0</td>\n",
              "      <td>0</td>\n",
              "      <td>0</td>\n",
              "      <td>0</td>\n",
              "      <td>0</td>\n",
              "      <td>0</td>\n",
              "      <td>0</td>\n",
              "      <td>0</td>\n",
              "      <td>0</td>\n",
              "      <td>0</td>\n",
              "      <td>0</td>\n",
              "      <td>0</td>\n",
              "      <td>0</td>\n",
              "      <td>0</td>\n",
              "      <td>0</td>\n",
              "      <td>0</td>\n",
              "      <td>0</td>\n",
              "      <td>0</td>\n",
              "      <td>0</td>\n",
              "      <td>0</td>\n",
              "      <td>0</td>\n",
              "      <td>0</td>\n",
              "      <td>0</td>\n",
              "      <td>1</td>\n",
              "      <td>0</td>\n",
              "      <td>0</td>\n",
              "      <td>0</td>\n",
              "      <td>0</td>\n",
              "      <td>0</td>\n",
              "      <td>0</td>\n",
              "    </tr>\n",
              "    <tr>\n",
              "      <th>7</th>\n",
              "      <td>A</td>\n",
              "      <td>1</td>\n",
              "      <td>0</td>\n",
              "      <td>0</td>\n",
              "      <td>0</td>\n",
              "      <td>0</td>\n",
              "      <td>0</td>\n",
              "      <td>0</td>\n",
              "      <td>1</td>\n",
              "      <td>0</td>\n",
              "      <td>0</td>\n",
              "      <td>0</td>\n",
              "      <td>0</td>\n",
              "      <td>0</td>\n",
              "      <td>0</td>\n",
              "      <td>0</td>\n",
              "      <td>0</td>\n",
              "      <td>0</td>\n",
              "      <td>0</td>\n",
              "      <td>0</td>\n",
              "      <td>0</td>\n",
              "      <td>0</td>\n",
              "      <td>0</td>\n",
              "      <td>0</td>\n",
              "      <td>0</td>\n",
              "      <td>0</td>\n",
              "      <td>0</td>\n",
              "      <td>0</td>\n",
              "      <td>0</td>\n",
              "      <td>0</td>\n",
              "      <td>0</td>\n",
              "      <td>0</td>\n",
              "      <td>0</td>\n",
              "      <td>0</td>\n",
              "      <td>0</td>\n",
              "      <td>0</td>\n",
              "      <td>0</td>\n",
              "      <td>0</td>\n",
              "      <td>0</td>\n",
              "      <td>0</td>\n",
              "      <td>0</td>\n",
              "      <td>0</td>\n",
              "      <td>0</td>\n",
              "      <td>0</td>\n",
              "      <td>0</td>\n",
              "      <td>0</td>\n",
              "      <td>0</td>\n",
              "      <td>0</td>\n",
              "      <td>0</td>\n",
              "      <td>0</td>\n",
              "      <td>0</td>\n",
              "      <td>0</td>\n",
              "      <td>0</td>\n",
              "      <td>0</td>\n",
              "      <td>0</td>\n",
              "      <td>0</td>\n",
              "      <td>0</td>\n",
              "      <td>0</td>\n",
              "      <td>0</td>\n",
              "      <td>0</td>\n",
              "      <td>0</td>\n",
              "      <td>0</td>\n",
              "      <td>1</td>\n",
              "      <td>0</td>\n",
              "      <td>0</td>\n",
              "      <td>0</td>\n",
              "      <td>0</td>\n",
              "      <td>0</td>\n",
              "      <td>0</td>\n",
              "      <td>0</td>\n",
              "      <td>0</td>\n",
              "      <td>0</td>\n",
              "      <td>0</td>\n",
              "    </tr>\n",
              "    <tr>\n",
              "      <th>10</th>\n",
              "      <td>A</td>\n",
              "      <td>0</td>\n",
              "      <td>0</td>\n",
              "      <td>1</td>\n",
              "      <td>0</td>\n",
              "      <td>0</td>\n",
              "      <td>0</td>\n",
              "      <td>0</td>\n",
              "      <td>0</td>\n",
              "      <td>1</td>\n",
              "      <td>0</td>\n",
              "      <td>0</td>\n",
              "      <td>0</td>\n",
              "      <td>0</td>\n",
              "      <td>0</td>\n",
              "      <td>0</td>\n",
              "      <td>0</td>\n",
              "      <td>0</td>\n",
              "      <td>0</td>\n",
              "      <td>0</td>\n",
              "      <td>0</td>\n",
              "      <td>0</td>\n",
              "      <td>0</td>\n",
              "      <td>0</td>\n",
              "      <td>0</td>\n",
              "      <td>0</td>\n",
              "      <td>0</td>\n",
              "      <td>0</td>\n",
              "      <td>0</td>\n",
              "      <td>0</td>\n",
              "      <td>0</td>\n",
              "      <td>0</td>\n",
              "      <td>0</td>\n",
              "      <td>0</td>\n",
              "      <td>0</td>\n",
              "      <td>0</td>\n",
              "      <td>0</td>\n",
              "      <td>0</td>\n",
              "      <td>0</td>\n",
              "      <td>0</td>\n",
              "      <td>0</td>\n",
              "      <td>0</td>\n",
              "      <td>0</td>\n",
              "      <td>0</td>\n",
              "      <td>0</td>\n",
              "      <td>0</td>\n",
              "      <td>0</td>\n",
              "      <td>0</td>\n",
              "      <td>0</td>\n",
              "      <td>0</td>\n",
              "      <td>0</td>\n",
              "      <td>0</td>\n",
              "      <td>0</td>\n",
              "      <td>0</td>\n",
              "      <td>0</td>\n",
              "      <td>0</td>\n",
              "      <td>0</td>\n",
              "      <td>0</td>\n",
              "      <td>0</td>\n",
              "      <td>0</td>\n",
              "      <td>0</td>\n",
              "      <td>0</td>\n",
              "      <td>1</td>\n",
              "      <td>0</td>\n",
              "      <td>0</td>\n",
              "      <td>0</td>\n",
              "      <td>0</td>\n",
              "      <td>0</td>\n",
              "      <td>0</td>\n",
              "      <td>0</td>\n",
              "      <td>0</td>\n",
              "      <td>0</td>\n",
              "      <td>0</td>\n",
              "    </tr>\n",
              "  </tbody>\n",
              "</table>\n",
              "</div>"
            ],
            "text/plain": [
              "   GRADE  Bronx  Brooklyn  Manhattan  Queens  ...  10H  10I  10J  22F  22G\n",
              "2      B      0         0          1       0  ...    0    0    0    0    0\n",
              "5      A      0         0          1       0  ...    0    0    0    0    0\n",
              "6      A      0         0          0       0  ...    0    0    0    0    0\n",
              "7      A      1         0          0       0  ...    0    0    0    0    0\n",
              "10     A      0         0          1       0  ...    0    0    0    0    0\n",
              "\n",
              "[5 rows x 73 columns]"
            ]
          },
          "metadata": {
            "tags": []
          },
          "execution_count": 27
        }
      ]
    },
    {
      "cell_type": "code",
      "metadata": {
        "id": "TezX9s6Fh7lY",
        "colab_type": "code",
        "colab": {
          "base_uri": "https://localhost:8080/",
          "height": 34
        },
        "outputId": "03a5181c-f2fc-484b-8a49-a1005fac1525"
      },
      "source": [
        "# removing grades that aren't A/B/C (the other letter grades mean that the grade is pending and thus aren't useful here)\n",
        "dataset_categ = dataset_categ.drop(dataset_categ[(dataset_categ['GRADE'] == 'N')].index)\n",
        "dataset_categ = dataset_categ.drop(dataset_categ[(dataset_categ['GRADE'] == 'Z')].index)\n",
        "dataset_categ = dataset_categ.drop(dataset_categ[(dataset_categ['GRADE'] == 'P')].index)\n",
        "dataset_categ = dataset_categ.drop(dataset_categ[(dataset_categ['GRADE'] == 'G')].index)\n",
        "dataset_categ.GRADE.unique()"
      ],
      "execution_count": null,
      "outputs": [
        {
          "output_type": "execute_result",
          "data": {
            "text/plain": [
              "array(['B', 'A', 'C'], dtype=object)"
            ]
          },
          "metadata": {
            "tags": []
          },
          "execution_count": 28
        }
      ]
    },
    {
      "cell_type": "code",
      "metadata": {
        "id": "DxOHrXNHUXAZ",
        "colab_type": "code",
        "colab": {}
      },
      "source": [
        "# defining X and y, y being the GRADE and X being all other columns *not GRADE*\n",
        "y = dataset_categ[\"GRADE\"]\n",
        "X = dataset_categ.drop(\"GRADE\", axis=1)"
      ],
      "execution_count": null,
      "outputs": []
    },
    {
      "cell_type": "code",
      "metadata": {
        "id": "rSFAdi10YL6b",
        "colab_type": "code",
        "colab": {}
      },
      "source": [
        "from sklearn.model_selection import train_test_split\n",
        "X_train, X_test, y_train, y_test = train_test_split(X, y, test_size=0.2, random_state=0)"
      ],
      "execution_count": null,
      "outputs": []
    },
    {
      "cell_type": "code",
      "metadata": {
        "id": "j1a6Q2JtYMgX",
        "colab_type": "code",
        "colab": {
          "base_uri": "https://localhost:8080/",
          "height": 119
        },
        "outputId": "91418e7c-d994-43d5-89a6-da4e5995a33a"
      },
      "source": [
        "from sklearn.tree import DecisionTreeClassifier\n",
        "classifier = DecisionTreeClassifier(class_weight='balanced')\n",
        "classifier.fit(X_train, y_train)"
      ],
      "execution_count": null,
      "outputs": [
        {
          "output_type": "execute_result",
          "data": {
            "text/plain": [
              "DecisionTreeClassifier(ccp_alpha=0.0, class_weight='balanced', criterion='gini',\n",
              "                       max_depth=None, max_features=None, max_leaf_nodes=None,\n",
              "                       min_impurity_decrease=0.0, min_impurity_split=None,\n",
              "                       min_samples_leaf=1, min_samples_split=2,\n",
              "                       min_weight_fraction_leaf=0.0, presort='deprecated',\n",
              "                       random_state=None, splitter='best')"
            ]
          },
          "metadata": {
            "tags": []
          },
          "execution_count": 31
        }
      ]
    },
    {
      "cell_type": "code",
      "metadata": {
        "id": "-JlWyor9YWx-",
        "colab_type": "code",
        "colab": {
          "base_uri": "https://localhost:8080/",
          "height": 51
        },
        "outputId": "7e15b1cc-3f84-4777-c157-7ca5ff7619f7"
      },
      "source": [
        "# evaluating model scores\n",
        "print(\"Score train:\", classifier.score(X_train, y_train))\n",
        "print(\"Score test:\", classifier.score(X_test, y_test))"
      ],
      "execution_count": null,
      "outputs": [
        {
          "output_type": "stream",
          "text": [
            "Score train: 0.5592925235739282\n",
            "Score test: 0.5417499827621871\n"
          ],
          "name": "stdout"
        }
      ]
    },
    {
      "cell_type": "code",
      "metadata": {
        "id": "Zn-N8o7xtCPj",
        "colab_type": "code",
        "colab": {
          "base_uri": "https://localhost:8080/",
          "height": 419
        },
        "outputId": "dd253b7e-e006-4c55-b09b-e93ad9d8cfb1"
      },
      "source": [
        "pred_tree = classifier.predict(X_test)\n",
        "# comparing predictions vs y_test\n",
        "pred_tree_df = pd.DataFrame({'Actual': y_test, 'Predicted': pred_tree})\n",
        "pred_tree_df.head(75)"
      ],
      "execution_count": null,
      "outputs": [
        {
          "output_type": "execute_result",
          "data": {
            "text/html": [
              "<div>\n",
              "<style scoped>\n",
              "    .dataframe tbody tr th:only-of-type {\n",
              "        vertical-align: middle;\n",
              "    }\n",
              "\n",
              "    .dataframe tbody tr th {\n",
              "        vertical-align: top;\n",
              "    }\n",
              "\n",
              "    .dataframe thead th {\n",
              "        text-align: right;\n",
              "    }\n",
              "</style>\n",
              "<table border=\"1\" class=\"dataframe\">\n",
              "  <thead>\n",
              "    <tr style=\"text-align: right;\">\n",
              "      <th></th>\n",
              "      <th>Actual</th>\n",
              "      <th>Predicted</th>\n",
              "    </tr>\n",
              "  </thead>\n",
              "  <tbody>\n",
              "    <tr>\n",
              "      <th>29624</th>\n",
              "      <td>A</td>\n",
              "      <td>C</td>\n",
              "    </tr>\n",
              "    <tr>\n",
              "      <th>1384</th>\n",
              "      <td>B</td>\n",
              "      <td>B</td>\n",
              "    </tr>\n",
              "    <tr>\n",
              "      <th>41690</th>\n",
              "      <td>B</td>\n",
              "      <td>B</td>\n",
              "    </tr>\n",
              "    <tr>\n",
              "      <th>132505</th>\n",
              "      <td>A</td>\n",
              "      <td>B</td>\n",
              "    </tr>\n",
              "    <tr>\n",
              "      <th>138125</th>\n",
              "      <td>A</td>\n",
              "      <td>B</td>\n",
              "    </tr>\n",
              "    <tr>\n",
              "      <th>...</th>\n",
              "      <td>...</td>\n",
              "      <td>...</td>\n",
              "    </tr>\n",
              "    <tr>\n",
              "      <th>103538</th>\n",
              "      <td>A</td>\n",
              "      <td>A</td>\n",
              "    </tr>\n",
              "    <tr>\n",
              "      <th>52663</th>\n",
              "      <td>A</td>\n",
              "      <td>A</td>\n",
              "    </tr>\n",
              "    <tr>\n",
              "      <th>100084</th>\n",
              "      <td>A</td>\n",
              "      <td>A</td>\n",
              "    </tr>\n",
              "    <tr>\n",
              "      <th>65130</th>\n",
              "      <td>A</td>\n",
              "      <td>B</td>\n",
              "    </tr>\n",
              "    <tr>\n",
              "      <th>1951</th>\n",
              "      <td>A</td>\n",
              "      <td>A</td>\n",
              "    </tr>\n",
              "  </tbody>\n",
              "</table>\n",
              "<p>75 rows × 2 columns</p>\n",
              "</div>"
            ],
            "text/plain": [
              "       Actual Predicted\n",
              "29624       A         C\n",
              "1384        B         B\n",
              "41690       B         B\n",
              "132505      A         B\n",
              "138125      A         B\n",
              "...       ...       ...\n",
              "103538      A         A\n",
              "52663       A         A\n",
              "100084      A         A\n",
              "65130       A         B\n",
              "1951        A         A\n",
              "\n",
              "[75 rows x 2 columns]"
            ]
          },
          "metadata": {
            "tags": []
          },
          "execution_count": 33
        }
      ]
    },
    {
      "cell_type": "code",
      "metadata": {
        "id": "aBCJIYybLL8r",
        "colab_type": "code",
        "colab": {
          "base_uri": "https://localhost:8080/",
          "height": 34
        },
        "outputId": "ddb8ce59-d513-4a8a-8968-d4182076e2bb"
      },
      "source": [
        "# split of predictions by categories\n",
        "print(np.unique(pred_tree, return_counts=True))"
      ],
      "execution_count": null,
      "outputs": [
        {
          "output_type": "stream",
          "text": [
            "(array(['A', 'B', 'C'], dtype=object), array([7444, 4142, 2917]))\n"
          ],
          "name": "stdout"
        }
      ]
    },
    {
      "cell_type": "code",
      "metadata": {
        "id": "Z7McBUiNYsRY",
        "colab_type": "code",
        "colab": {
          "base_uri": "https://localhost:8080/",
          "height": 359
        },
        "outputId": "bab2629f-0309-4032-9ce6-8b9135ace471"
      },
      "source": [
        "# putting feature importance in a dataframe\n",
        "feature_importance = pd.DataFrame({\"Features\":dataset_categ.columns[1:],\n",
        "                                    \"Value\": classifier.feature_importances_})\n",
        "\n",
        "# getting the top 10\n",
        "feature_importance.nlargest(10, 'Value')"
      ],
      "execution_count": null,
      "outputs": [
        {
          "output_type": "execute_result",
          "data": {
            "text/html": [
              "<div>\n",
              "<style scoped>\n",
              "    .dataframe tbody tr th:only-of-type {\n",
              "        vertical-align: middle;\n",
              "    }\n",
              "\n",
              "    .dataframe tbody tr th {\n",
              "        vertical-align: top;\n",
              "    }\n",
              "\n",
              "    .dataframe thead th {\n",
              "        text-align: right;\n",
              "    }\n",
              "</style>\n",
              "<table border=\"1\" class=\"dataframe\">\n",
              "  <thead>\n",
              "    <tr style=\"text-align: right;\">\n",
              "      <th></th>\n",
              "      <th>Features</th>\n",
              "      <th>Value</th>\n",
              "    </tr>\n",
              "  </thead>\n",
              "  <tbody>\n",
              "    <tr>\n",
              "      <th>65</th>\n",
              "      <td>10F</td>\n",
              "      <td>0.220306</td>\n",
              "    </tr>\n",
              "    <tr>\n",
              "      <th>6</th>\n",
              "      <td>Asia</td>\n",
              "      <td>0.048131</td>\n",
              "    </tr>\n",
              "    <tr>\n",
              "      <th>2</th>\n",
              "      <td>Manhattan</td>\n",
              "      <td>0.040017</td>\n",
              "    </tr>\n",
              "    <tr>\n",
              "      <th>1</th>\n",
              "      <td>Brooklyn</td>\n",
              "      <td>0.037853</td>\n",
              "    </tr>\n",
              "    <tr>\n",
              "      <th>47</th>\n",
              "      <td>06D</td>\n",
              "      <td>0.037094</td>\n",
              "    </tr>\n",
              "    <tr>\n",
              "      <th>3</th>\n",
              "      <td>Queens</td>\n",
              "      <td>0.036690</td>\n",
              "    </tr>\n",
              "    <tr>\n",
              "      <th>0</th>\n",
              "      <td>Bronx</td>\n",
              "      <td>0.035237</td>\n",
              "    </tr>\n",
              "    <tr>\n",
              "      <th>61</th>\n",
              "      <td>10B</td>\n",
              "      <td>0.032075</td>\n",
              "    </tr>\n",
              "    <tr>\n",
              "      <th>59</th>\n",
              "      <td>09C</td>\n",
              "      <td>0.031160</td>\n",
              "    </tr>\n",
              "    <tr>\n",
              "      <th>46</th>\n",
              "      <td>06C</td>\n",
              "      <td>0.027959</td>\n",
              "    </tr>\n",
              "  </tbody>\n",
              "</table>\n",
              "</div>"
            ],
            "text/plain": [
              "     Features     Value\n",
              "65        10F  0.220306\n",
              "6        Asia  0.048131\n",
              "2   Manhattan  0.040017\n",
              "1    Brooklyn  0.037853\n",
              "47        06D  0.037094\n",
              "3      Queens  0.036690\n",
              "0       Bronx  0.035237\n",
              "61        10B  0.032075\n",
              "59        09C  0.031160\n",
              "46        06C  0.027959"
            ]
          },
          "metadata": {
            "tags": []
          },
          "execution_count": 35
        }
      ]
    },
    {
      "cell_type": "markdown",
      "metadata": {
        "id": "72ZHeD1ccDd2",
        "colab_type": "text"
      },
      "source": [
        "# Random forest"
      ]
    },
    {
      "cell_type": "code",
      "metadata": {
        "id": "HBJI0zlNbfO8",
        "colab_type": "code",
        "colab": {
          "base_uri": "https://localhost:8080/",
          "height": 153
        },
        "outputId": "466085a0-1991-4c73-c3d9-6f41184b4bc7"
      },
      "source": [
        "from sklearn.ensemble import RandomForestClassifier\n",
        "forest = RandomForestClassifier()\n",
        "forest.fit(X_train, y_train)"
      ],
      "execution_count": null,
      "outputs": [
        {
          "output_type": "execute_result",
          "data": {
            "text/plain": [
              "RandomForestClassifier(bootstrap=True, ccp_alpha=0.0, class_weight=None,\n",
              "                       criterion='gini', max_depth=None, max_features='auto',\n",
              "                       max_leaf_nodes=None, max_samples=None,\n",
              "                       min_impurity_decrease=0.0, min_impurity_split=None,\n",
              "                       min_samples_leaf=1, min_samples_split=2,\n",
              "                       min_weight_fraction_leaf=0.0, n_estimators=100,\n",
              "                       n_jobs=None, oob_score=False, random_state=None,\n",
              "                       verbose=0, warm_start=False)"
            ]
          },
          "metadata": {
            "tags": []
          },
          "execution_count": 36
        }
      ]
    },
    {
      "cell_type": "code",
      "metadata": {
        "id": "aGAJT5_ucMs1",
        "colab_type": "code",
        "colab": {
          "base_uri": "https://localhost:8080/",
          "height": 68
        },
        "outputId": "4320dd47-cc16-46ef-d85c-4fc92e23e6d9"
      },
      "source": [
        "print(\"Score train:\",forest.score(X_train, y_train))\n",
        "print(\"Score test:\",forest.score(X_test, y_test))\n",
        "print(\"Estimateur naïf score:\", forest.score(X_test, np.array(['A'] * len(y_test))))"
      ],
      "execution_count": null,
      "outputs": [
        {
          "output_type": "stream",
          "text": [
            "Score train: 0.8280956403316727\n",
            "Score test: 0.8292077501206647\n",
            "Estimateur naïf score: 0.9947597048886437\n"
          ],
          "name": "stdout"
        }
      ]
    },
    {
      "cell_type": "code",
      "metadata": {
        "id": "lFeh2tkyj64k",
        "colab_type": "code",
        "colab": {
          "base_uri": "https://localhost:8080/",
          "height": 419
        },
        "outputId": "7273e982-5884-4c4e-bacc-fcec4a376aa6"
      },
      "source": [
        "pred_forest = forest.predict(X_test)\n",
        "# comparing predictions vs y_test\n",
        "pred_forest_df = pd.DataFrame({'Actual': y_test, 'Predicted': pred_forest})\n",
        "pred_forest_df.head(75)"
      ],
      "execution_count": null,
      "outputs": [
        {
          "output_type": "execute_result",
          "data": {
            "text/html": [
              "<div>\n",
              "<style scoped>\n",
              "    .dataframe tbody tr th:only-of-type {\n",
              "        vertical-align: middle;\n",
              "    }\n",
              "\n",
              "    .dataframe tbody tr th {\n",
              "        vertical-align: top;\n",
              "    }\n",
              "\n",
              "    .dataframe thead th {\n",
              "        text-align: right;\n",
              "    }\n",
              "</style>\n",
              "<table border=\"1\" class=\"dataframe\">\n",
              "  <thead>\n",
              "    <tr style=\"text-align: right;\">\n",
              "      <th></th>\n",
              "      <th>Actual</th>\n",
              "      <th>Predicted</th>\n",
              "    </tr>\n",
              "  </thead>\n",
              "  <tbody>\n",
              "    <tr>\n",
              "      <th>29624</th>\n",
              "      <td>A</td>\n",
              "      <td>A</td>\n",
              "    </tr>\n",
              "    <tr>\n",
              "      <th>1384</th>\n",
              "      <td>B</td>\n",
              "      <td>A</td>\n",
              "    </tr>\n",
              "    <tr>\n",
              "      <th>41690</th>\n",
              "      <td>B</td>\n",
              "      <td>A</td>\n",
              "    </tr>\n",
              "    <tr>\n",
              "      <th>132505</th>\n",
              "      <td>A</td>\n",
              "      <td>A</td>\n",
              "    </tr>\n",
              "    <tr>\n",
              "      <th>138125</th>\n",
              "      <td>A</td>\n",
              "      <td>A</td>\n",
              "    </tr>\n",
              "    <tr>\n",
              "      <th>...</th>\n",
              "      <td>...</td>\n",
              "      <td>...</td>\n",
              "    </tr>\n",
              "    <tr>\n",
              "      <th>103538</th>\n",
              "      <td>A</td>\n",
              "      <td>A</td>\n",
              "    </tr>\n",
              "    <tr>\n",
              "      <th>52663</th>\n",
              "      <td>A</td>\n",
              "      <td>A</td>\n",
              "    </tr>\n",
              "    <tr>\n",
              "      <th>100084</th>\n",
              "      <td>A</td>\n",
              "      <td>A</td>\n",
              "    </tr>\n",
              "    <tr>\n",
              "      <th>65130</th>\n",
              "      <td>A</td>\n",
              "      <td>A</td>\n",
              "    </tr>\n",
              "    <tr>\n",
              "      <th>1951</th>\n",
              "      <td>A</td>\n",
              "      <td>A</td>\n",
              "    </tr>\n",
              "  </tbody>\n",
              "</table>\n",
              "<p>75 rows × 2 columns</p>\n",
              "</div>"
            ],
            "text/plain": [
              "       Actual Predicted\n",
              "29624       A         A\n",
              "1384        B         A\n",
              "41690       B         A\n",
              "132505      A         A\n",
              "138125      A         A\n",
              "...       ...       ...\n",
              "103538      A         A\n",
              "52663       A         A\n",
              "100084      A         A\n",
              "65130       A         A\n",
              "1951        A         A\n",
              "\n",
              "[75 rows x 2 columns]"
            ]
          },
          "metadata": {
            "tags": []
          },
          "execution_count": 38
        }
      ]
    },
    {
      "cell_type": "code",
      "metadata": {
        "id": "fouvXRLMLmuM",
        "colab_type": "code",
        "colab": {
          "base_uri": "https://localhost:8080/",
          "height": 34
        },
        "outputId": "1705c657-de5f-4ef0-ab08-f232d2801b41"
      },
      "source": [
        "# split predictions\n",
        "print(\"predictions:\", np.unique(pred_forest, return_counts=True))"
      ],
      "execution_count": null,
      "outputs": [
        {
          "output_type": "stream",
          "text": [
            "predictions: (array(['A', 'B', 'C'], dtype=object), array([14427,    49,    27]))\n"
          ],
          "name": "stdout"
        }
      ]
    },
    {
      "cell_type": "code",
      "metadata": {
        "id": "3h8s0_n7lahL",
        "colab_type": "code",
        "colab": {
          "base_uri": "https://localhost:8080/",
          "height": 68
        },
        "outputId": "3d5e8459-5e23-4a44-e784-dfb6e39cb935"
      },
      "source": [
        "# confusion matrix\n",
        "from sklearn.metrics import confusion_matrix\n",
        "labels = ['A', 'B', 'C']\n",
        "cm = confusion_matrix(y_test, forest.predict(X_test), labels)\n",
        "cm"
      ],
      "execution_count": null,
      "outputs": [
        {
          "output_type": "execute_result",
          "data": {
            "text/plain": [
              "array([[12000,    26,    14],\n",
              "       [ 1817,    17,     4],\n",
              "       [  610,     6,     9]])"
            ]
          },
          "metadata": {
            "tags": []
          },
          "execution_count": 40
        }
      ]
    },
    {
      "cell_type": "code",
      "metadata": {
        "id": "4Od1hKS1lhfn",
        "colab_type": "code",
        "colab": {
          "base_uri": "https://localhost:8080/",
          "height": 311
        },
        "outputId": "a596d660-1c6c-4eff-ac02-e047cfb9b6b5"
      },
      "source": [
        "ax = plt.subplot()\n",
        "sb.heatmap(cm, annot=True, fmt=\".0f\", cmap='Greens', ax = ax)\n",
        "ax.set_xlabel('Predicted grades')\n",
        "ax.set_ylabel('True grades')\n",
        "ax.set_title('Confusion Matrix Random Forest')\n",
        "ax.xaxis.set_ticklabels(['A', 'B', 'C']); ax.yaxis.set_ticklabels(['A', 'B', 'C'])"
      ],
      "execution_count": null,
      "outputs": [
        {
          "output_type": "execute_result",
          "data": {
            "text/plain": [
              "[Text(0, 0.5, 'A'), Text(0, 1.5, 'B'), Text(0, 2.5, 'C')]"
            ]
          },
          "metadata": {
            "tags": []
          },
          "execution_count": 41
        },
        {
          "output_type": "display_data",
          "data": {
            "image/png": "[encoded data removed]",
            "text/plain": [
              "<Figure size 432x288 with 2 Axes>"
            ]
          },
          "metadata": {
            "tags": [],
            "needs_background": "light"
          }
        }
      ]
    },
    {
      "cell_type": "code",
      "metadata": {
        "id": "dQ8OaeP3lT_t",
        "colab_type": "code",
        "colab": {
          "base_uri": "https://localhost:8080/",
          "height": 359
        },
        "outputId": "135f3848-6ec8-4741-9294-bfc9212239cf"
      },
      "source": [
        "# putting feature importance in a dataframe\n",
        "feature_importance_forest = pd.DataFrame({\"Features\":dataset_categ.columns[1:],\n",
        "                                    \"Value\": forest.feature_importances_})\n",
        "\n",
        "# getting the top 10\n",
        "feature_importance_forest.nlargest(10, 'Value')"
      ],
      "execution_count": null,
      "outputs": [
        {
          "output_type": "execute_result",
          "data": {
            "text/html": [
              "<div>\n",
              "<style scoped>\n",
              "    .dataframe tbody tr th:only-of-type {\n",
              "        vertical-align: middle;\n",
              "    }\n",
              "\n",
              "    .dataframe tbody tr th {\n",
              "        vertical-align: top;\n",
              "    }\n",
              "\n",
              "    .dataframe thead th {\n",
              "        text-align: right;\n",
              "    }\n",
              "</style>\n",
              "<table border=\"1\" class=\"dataframe\">\n",
              "  <thead>\n",
              "    <tr style=\"text-align: right;\">\n",
              "      <th></th>\n",
              "      <th>Features</th>\n",
              "      <th>Value</th>\n",
              "    </tr>\n",
              "  </thead>\n",
              "  <tbody>\n",
              "    <tr>\n",
              "      <th>65</th>\n",
              "      <td>10F</td>\n",
              "      <td>0.124927</td>\n",
              "    </tr>\n",
              "    <tr>\n",
              "      <th>34</th>\n",
              "      <td>04M</td>\n",
              "      <td>0.047946</td>\n",
              "    </tr>\n",
              "    <tr>\n",
              "      <th>35</th>\n",
              "      <td>04N</td>\n",
              "      <td>0.047905</td>\n",
              "    </tr>\n",
              "    <tr>\n",
              "      <th>14</th>\n",
              "      <td>02G</td>\n",
              "      <td>0.043018</td>\n",
              "    </tr>\n",
              "    <tr>\n",
              "      <th>54</th>\n",
              "      <td>08A</td>\n",
              "      <td>0.042498</td>\n",
              "    </tr>\n",
              "    <tr>\n",
              "      <th>33</th>\n",
              "      <td>04L</td>\n",
              "      <td>0.041253</td>\n",
              "    </tr>\n",
              "    <tr>\n",
              "      <th>6</th>\n",
              "      <td>Asia</td>\n",
              "      <td>0.037750</td>\n",
              "    </tr>\n",
              "    <tr>\n",
              "      <th>23</th>\n",
              "      <td>04A</td>\n",
              "      <td>0.036104</td>\n",
              "    </tr>\n",
              "    <tr>\n",
              "      <th>2</th>\n",
              "      <td>Manhattan</td>\n",
              "      <td>0.032499</td>\n",
              "    </tr>\n",
              "    <tr>\n",
              "      <th>1</th>\n",
              "      <td>Brooklyn</td>\n",
              "      <td>0.031189</td>\n",
              "    </tr>\n",
              "  </tbody>\n",
              "</table>\n",
              "</div>"
            ],
            "text/plain": [
              "     Features     Value\n",
              "65        10F  0.124927\n",
              "34        04M  0.047946\n",
              "35        04N  0.047905\n",
              "14        02G  0.043018\n",
              "54        08A  0.042498\n",
              "33        04L  0.041253\n",
              "6        Asia  0.037750\n",
              "23        04A  0.036104\n",
              "2   Manhattan  0.032499\n",
              "1    Brooklyn  0.031189"
            ]
          },
          "metadata": {
            "tags": []
          },
          "execution_count": 42
        }
      ]
    },
    {
      "cell_type": "markdown",
      "metadata": {
        "id": "BjEVSvgqrlgn",
        "colab_type": "text"
      },
      "source": [
        "# Naive classification"
      ]
    },
    {
      "cell_type": "code",
      "metadata": {
        "id": "ioP1hHfBrm4j",
        "colab_type": "code",
        "colab": {
          "base_uri": "https://localhost:8080/"
        },
        "outputId": "1c5c325d-87e6-421e-f7eb-c052a4045ce0"
      },
      "source": [
        "from sklearn.naive_bayes import GaussianNB\n",
        "naiveb = GaussianNB()\n",
        "naiveb.fit(X_train, y_train)"
      ],
      "execution_count": null,
      "outputs": [
        {
          "output_type": "execute_result",
          "data": {
            "text/plain": [
              "GaussianNB(priors=None, var_smoothing=1e-09)"
            ]
          },
          "metadata": {
            "tags": []
          },
          "execution_count": 43
        }
      ]
    },
    {
      "cell_type": "code",
      "metadata": {
        "id": "CwEL2oUOsl54",
        "colab_type": "code",
        "colab": {
          "base_uri": "https://localhost:8080/"
        },
        "outputId": "5fb91e36-4cdb-44b9-b855-b4bc5dee7a7c"
      },
      "source": [
        "print(\"Score train:\",naiveb.score(X_train, y_train))\n",
        "print(\"Score test:\",naiveb.score(X_test, y_test))"
      ],
      "execution_count": null,
      "outputs": [
        {
          "output_type": "stream",
          "text": [
            "Score train: 0.7894292264993363\n",
            "Score test: 0.7928704405984969\n"
          ],
          "name": "stdout"
        }
      ]
    },
    {
      "cell_type": "code",
      "metadata": {
        "id": "0_gP6ZUGr-LD",
        "colab_type": "code",
        "colab": {
          "base_uri": "https://localhost:8080/"
        },
        "outputId": "08a7a80a-6ab9-4b09-aad9-43d2f9c0e221"
      },
      "source": [
        "pred_naiveb = naiveb.predict(X_test)\n",
        "pred_naiveb_df = pd.DataFrame({'Actual': y_test, 'Predicted': pred_naiveb})\n",
        "pred_naiveb_df.head(75)"
      ],
      "execution_count": null,
      "outputs": [
        {
          "output_type": "execute_result",
          "data": {
            "text/html": [
              "<div>\n",
              "<style scoped>\n",
              "    .dataframe tbody tr th:only-of-type {\n",
              "        vertical-align: middle;\n",
              "    }\n",
              "\n",
              "    .dataframe tbody tr th {\n",
              "        vertical-align: top;\n",
              "    }\n",
              "\n",
              "    .dataframe thead th {\n",
              "        text-align: right;\n",
              "    }\n",
              "</style>\n",
              "<table border=\"1\" class=\"dataframe\">\n",
              "  <thead>\n",
              "    <tr style=\"text-align: right;\">\n",
              "      <th></th>\n",
              "      <th>Actual</th>\n",
              "      <th>Predicted</th>\n",
              "    </tr>\n",
              "  </thead>\n",
              "  <tbody>\n",
              "    <tr>\n",
              "      <th>29624</th>\n",
              "      <td>A</td>\n",
              "      <td>A</td>\n",
              "    </tr>\n",
              "    <tr>\n",
              "      <th>1384</th>\n",
              "      <td>B</td>\n",
              "      <td>A</td>\n",
              "    </tr>\n",
              "    <tr>\n",
              "      <th>41690</th>\n",
              "      <td>B</td>\n",
              "      <td>A</td>\n",
              "    </tr>\n",
              "    <tr>\n",
              "      <th>132505</th>\n",
              "      <td>A</td>\n",
              "      <td>B</td>\n",
              "    </tr>\n",
              "    <tr>\n",
              "      <th>138125</th>\n",
              "      <td>A</td>\n",
              "      <td>A</td>\n",
              "    </tr>\n",
              "    <tr>\n",
              "      <th>...</th>\n",
              "      <td>...</td>\n",
              "      <td>...</td>\n",
              "    </tr>\n",
              "    <tr>\n",
              "      <th>103538</th>\n",
              "      <td>A</td>\n",
              "      <td>A</td>\n",
              "    </tr>\n",
              "    <tr>\n",
              "      <th>52663</th>\n",
              "      <td>A</td>\n",
              "      <td>A</td>\n",
              "    </tr>\n",
              "    <tr>\n",
              "      <th>100084</th>\n",
              "      <td>A</td>\n",
              "      <td>A</td>\n",
              "    </tr>\n",
              "    <tr>\n",
              "      <th>65130</th>\n",
              "      <td>A</td>\n",
              "      <td>A</td>\n",
              "    </tr>\n",
              "    <tr>\n",
              "      <th>1951</th>\n",
              "      <td>A</td>\n",
              "      <td>A</td>\n",
              "    </tr>\n",
              "  </tbody>\n",
              "</table>\n",
              "<p>75 rows × 2 columns</p>\n",
              "</div>"
            ],
            "text/plain": [
              "       Actual Predicted\n",
              "29624       A         A\n",
              "1384        B         A\n",
              "41690       B         A\n",
              "132505      A         B\n",
              "138125      A         A\n",
              "...       ...       ...\n",
              "103538      A         A\n",
              "52663       A         A\n",
              "100084      A         A\n",
              "65130       A         A\n",
              "1951        A         A\n",
              "\n",
              "[75 rows x 2 columns]"
            ]
          },
          "metadata": {
            "tags": []
          },
          "execution_count": 45
        }
      ]
    },
    {
      "cell_type": "markdown",
      "metadata": {
        "id": "cdAhziYiszyJ",
        "colab_type": "text"
      },
      "source": [
        "# Just for fun: predicting GRADE based on SCORE\n",
        "![Capture d’écran 2020-08-27 à 18.15.09.png](data:image/png;base64,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)"
      ]
    },
    {
      "cell_type": "code",
      "metadata": {
        "id": "TmFs0Op1ynag",
        "colab_type": "code",
        "colab": {
          "base_uri": "https://localhost:8080/",
          "height": 34
        },
        "outputId": "944d5c04-db58-4256-88a1-71722261087d"
      },
      "source": [
        "dataset = dataset.drop(dataset[(dataset['GRADE'] == 'N')].index)\n",
        "dataset = dataset.drop(dataset[(dataset['GRADE'] == 'Z')].index)\n",
        "dataset = dataset.drop(dataset[(dataset['GRADE'] == 'P')].index)\n",
        "dataset = dataset.drop(dataset[(dataset['GRADE'] == 'G')].index)\n",
        "dataset.GRADE.unique()"
      ],
      "execution_count": null,
      "outputs": [
        {
          "output_type": "execute_result",
          "data": {
            "text/plain": [
              "array(['B', 'A', 'C'], dtype=object)"
            ]
          },
          "metadata": {
            "tags": []
          },
          "execution_count": 46
        }
      ]
    },
    {
      "cell_type": "code",
      "metadata": {
        "id": "dWP-HaGrtiLW",
        "colab_type": "code",
        "colab": {}
      },
      "source": [
        "X_fun = dataset[\"SCORE\"]\n",
        "y_fun = dataset[\"GRADE\"]"
      ],
      "execution_count": null,
      "outputs": []
    },
    {
      "cell_type": "code",
      "metadata": {
        "id": "2dHFoUtf7kEb",
        "colab_type": "code",
        "colab": {}
      },
      "source": [
        "# casting SCORE as integer\n",
        "# removing -1 and 0 scores (irrelevant)\n",
        "dataset.SCORE = dataset.SCORE.astype(int)\n",
        "dataset= dataset.drop(dataset[(dataset['SCORE'] == -1)].index)\n",
        "dataset= dataset.drop(dataset[(dataset['SCORE'] == -0)].index)"
      ],
      "execution_count": null,
      "outputs": []
    },
    {
      "cell_type": "code",
      "metadata": {
        "id": "ut9StKvY5ZRz",
        "colab_type": "code",
        "colab": {
          "base_uri": "https://localhost:8080/",
          "height": 296
        },
        "outputId": "58e195a9-3f23-4f9a-c025-7b78a3d4a00f"
      },
      "source": [
        "dataset.plot(kind='scatter', x='SCORE', y='GRADE')"
      ],
      "execution_count": null,
      "outputs": [
        {
          "output_type": "execute_result",
          "data": {
            "text/plain": [
              "<matplotlib.axes._subplots.AxesSubplot at 0x7f8a3382d860>"
            ]
          },
          "metadata": {
            "tags": []
          },
          "execution_count": 49
        },
        {
          "output_type": "display_data",
          "data": {
            "image/png": "[encoded data removed]",
            "text/plain": [
              "<Figure size 432x288 with 1 Axes>"
            ]
          },
          "metadata": {
            "tags": [],
            "needs_background": "light"
          }
        }
      ]
    },
    {
      "cell_type": "markdown",
      "metadata": {
        "id": "-EhairumFQcH",
        "colab_type": "text"
      },
      "source": [
        "The scatter plot shows the relation between SCORE <> GRADE."
      ]
    },
    {
      "cell_type": "code",
      "metadata": {
        "id": "z3A3q5c6vpam",
        "colab_type": "code",
        "colab": {}
      },
      "source": [
        "from sklearn.model_selection import train_test_split\n",
        "X_fun_train, X_fun_test, y_fun_train, y_fun_test = train_test_split(X_fun, y_fun, test_size=0.2, random_state=0)"
      ],
      "execution_count": null,
      "outputs": []
    },
    {
      "cell_type": "code",
      "metadata": {
        "id": "c1IFDdVu2Uu6",
        "colab_type": "code",
        "colab": {}
      },
      "source": [
        "X_fun_train = X_fun_train.values.reshape(-1,1)\n",
        "X_fun_test = X_fun_test.values.reshape(-1,1)"
      ],
      "execution_count": null,
      "outputs": []
    },
    {
      "cell_type": "markdown",
      "metadata": {
        "id": "unDk2bWxZuRh",
        "colab_type": "text"
      },
      "source": [
        "## log regression"
      ]
    },
    {
      "cell_type": "code",
      "metadata": {
        "id": "Cw0leqA70P98",
        "colab_type": "code",
        "colab": {
          "base_uri": "https://localhost:8080/",
          "height": 102
        },
        "outputId": "b5d8fdd6-0ed8-43de-ee40-873486c3a496"
      },
      "source": [
        "from sklearn.linear_model import LogisticRegression\n",
        "log_fun = LogisticRegression()\n",
        "log_fun.fit(X_fun_train, y_fun_train)"
      ],
      "execution_count": null,
      "outputs": [
        {
          "output_type": "execute_result",
          "data": {
            "text/plain": [
              "LogisticRegression(C=1.0, class_weight=None, dual=False, fit_intercept=True,\n",
              "                   intercept_scaling=1, l1_ratio=None, max_iter=100,\n",
              "                   multi_class='auto', n_jobs=None, penalty='l2',\n",
              "                   random_state=None, solver='lbfgs', tol=0.0001, verbose=0,\n",
              "                   warm_start=False)"
            ]
          },
          "metadata": {
            "tags": []
          },
          "execution_count": 52
        }
      ]
    },
    {
      "cell_type": "code",
      "metadata": {
        "id": "cPqhAJ1Fv2OZ",
        "colab_type": "code",
        "colab": {
          "base_uri": "https://localhost:8080/",
          "height": 34
        },
        "outputId": "e17e91ad-f026-43d4-f6a1-9e1607dc284e"
      },
      "source": [
        "print(\"Score train:\", log_fun.score(X_fun_train, y_fun_train))"
      ],
      "execution_count": null,
      "outputs": [
        {
          "output_type": "stream",
          "text": [
            "Score train: 0.990415280387526\n"
          ],
          "name": "stdout"
        }
      ]
    },
    {
      "cell_type": "code",
      "metadata": {
        "id": "f0QG9rhC2wgE",
        "colab_type": "code",
        "colab": {
          "base_uri": "https://localhost:8080/",
          "height": 34
        },
        "outputId": "02991ca8-8048-4d66-d759-fbb0e013defe"
      },
      "source": [
        "print(\"Score test:\", log_fun.score(X_fun_test, y_fun_test))"
      ],
      "execution_count": null,
      "outputs": [
        {
          "output_type": "stream",
          "text": [
            "Score test: 0.9910363373095221\n"
          ],
          "name": "stdout"
        }
      ]
    },
    {
      "cell_type": "code",
      "metadata": {
        "id": "ZRrZm2ApGfdK",
        "colab_type": "code",
        "colab": {
          "base_uri": "https://localhost:8080/",
          "height": 34
        },
        "outputId": "01b52f8e-c59c-45e1-d3e9-4e389190a257"
      },
      "source": [
        "pred_log = log_fun.predict(X_fun_test)\n",
        "print(np.unique(pred_log, return_counts=True))"
      ],
      "execution_count": null,
      "outputs": [
        {
          "output_type": "stream",
          "text": [
            "(array(['A', 'B', 'C'], dtype=object), array([12134,  1782,   587]))\n"
          ],
          "name": "stdout"
        }
      ]
    },
    {
      "cell_type": "code",
      "metadata": {
        "id": "JNoXK-WLtjOV",
        "colab_type": "code",
        "colab": {
          "base_uri": "https://localhost:8080/",
          "height": 282
        },
        "outputId": "947175b4-d729-486f-801a-b9e716fc6eca"
      },
      "source": [
        "plt.scatter(X_fun_test, pred_log)"
      ],
      "execution_count": null,
      "outputs": [
        {
          "output_type": "execute_result",
          "data": {
            "text/plain": [
              "<matplotlib.collections.PathCollection at 0x7f8a32f3aef0>"
            ]
          },
          "metadata": {
            "tags": []
          },
          "execution_count": 56
        },
        {
          "output_type": "display_data",
          "data": {
            "image/png": "[encoded data removed]",
            "text/plain": [
              "<Figure size 432x288 with 1 Axes>"
            ]
          },
          "metadata": {
            "tags": [],
            "needs_background": "light"
          }
        }
      ]
    },
    {
      "cell_type": "markdown",
      "metadata": {
        "id": "R6lWCekrb-hx",
        "colab_type": "text"
      },
      "source": [
        "### confusion matrix reverse engineering log reg"
      ]
    },
    {
      "cell_type": "code",
      "metadata": {
        "id": "Nbiaz9qObf0r",
        "colab_type": "code",
        "colab": {
          "base_uri": "https://localhost:8080/",
          "height": 362
        },
        "outputId": "8296f8ea-597b-4f57-ec77-3e3d6bf8ee95"
      },
      "source": [
        "# confusion matrix\n",
        "cm_log = confusion_matrix(y_fun_test, pred_log)\n",
        "cm_log\n",
        "print(cm_log)\n",
        "\n",
        "ax = plt.subplot()\n",
        "sb.heatmap(cm_log, annot=True, fmt=\".0f\", cmap='Greens', ax = ax)\n",
        "ax.set_xlabel('Predicted grades')\n",
        "ax.set_ylabel('True grades')\n",
        "ax.set_title('Confusion matrix reverse engineering grade (logistic regression)')\n",
        "ax.xaxis.set_ticklabels(['A', 'B', 'C']); ax.yaxis.set_ticklabels(['A', 'B', 'C'])"
      ],
      "execution_count": null,
      "outputs": [
        {
          "output_type": "stream",
          "text": [
            "[[12039     0     1]\n",
            " [   90  1748     0]\n",
            " [    5    34   586]]\n"
          ],
          "name": "stdout"
        },
        {
          "output_type": "execute_result",
          "data": {
            "text/plain": [
              "[Text(0, 0.5, 'A'), Text(0, 1.5, 'B'), Text(0, 2.5, 'C')]"
            ]
          },
          "metadata": {
            "tags": []
          },
          "execution_count": 57
        },
        {
          "output_type": "display_data",
          "data": {
            "image/png": "[encoded data removed]",
            "text/plain": [
              "<Figure size 432x288 with 2 Axes>"
            ]
          },
          "metadata": {
            "tags": [],
            "needs_background": "light"
          }
        }
      ]
    },
    {
      "cell_type": "markdown",
      "metadata": {
        "id": "r9JVnX2NvRka",
        "colab_type": "text"
      },
      "source": [
        "# Conclusion"
      ]
    },
    {
      "cell_type": "code",
      "metadata": {
        "id": "ti_rz0lYv22I",
        "colab_type": "code",
        "colab": {
          "base_uri": "https://localhost:8080/",
          "height": 130
        },
        "outputId": "a6700e3a-8b8d-4964-bd3b-3696ab5b9cb5"
      },
      "source": [
        "Score - linear regression: "
      ],
      "execution_count": null,
      "outputs": [
        {
          "output_type": "error",
          "ename": "SyntaxError",
          "evalue": "ignored",
          "traceback": [
            "\u001b[0;36m  File \u001b[0;32m\"<ipython-input-58-79a22de1541e>\"\u001b[0;36m, line \u001b[0;32m1\u001b[0m\n\u001b[0;31m    Score - linear regression:\u001b[0m\n\u001b[0m                            ^\u001b[0m\n\u001b[0;31mSyntaxError\u001b[0m\u001b[0;31m:\u001b[0m invalid syntax\n"
          ]
        }
      ]
    },
    {
      "cell_type": "code",
      "metadata": {
        "id": "z5w47w0Nwpsw",
        "colab_type": "code",
        "colab": {}
      },
      "source": [
        ""
      ],
      "execution_count": null,
      "outputs": []
    }
  ]
}